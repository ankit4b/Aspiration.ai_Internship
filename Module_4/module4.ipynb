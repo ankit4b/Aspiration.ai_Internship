{
  "nbformat": 4,
  "nbformat_minor": 0,
  "metadata": {
    "colab": {
      "name": "module4.ipynb",
      "provenance": [],
      "collapsed_sections": []
    },
    "kernelspec": {
      "name": "python3",
      "display_name": "Python 3"
    }
  },
  "cells": [
    {
      "cell_type": "markdown",
      "metadata": {
        "id": "RIod3KZ7Br5r",
        "colab_type": "text"
      },
      "source": [
        "# **MODULE 4**"
      ]
    },
    {
      "cell_type": "markdown",
      "metadata": {
        "id": "XH_NGKjJiCsD",
        "colab_type": "text"
      },
      "source": [
        "### Import Libraty"
      ]
    },
    {
      "cell_type": "code",
      "metadata": {
        "id": "65KLIJ4dBtqh",
        "colab_type": "code",
        "colab": {}
      },
      "source": [
        "import pandas as pd\n",
        "import matplotlib.pyplot as plt\n",
        "import seaborn as sns\n",
        "import numpy as np"
      ],
      "execution_count": 0,
      "outputs": []
    },
    {
      "cell_type": "code",
      "metadata": {
        "id": "MxaxQbiWHh-o",
        "colab_type": "code",
        "colab": {}
      },
      "source": [
        "from sklearn.model_selection import train_test_split\n",
        "from sklearn.preprocessing import StandardScaler\n",
        "from sklearn.neural_network import MLPClassifier\n",
        "from sklearn.neighbors import KNeighborsClassifier\n",
        "from sklearn.svm import SVC\n",
        "from sklearn.gaussian_process import GaussianProcessClassifier\n",
        "from sklearn.gaussian_process.kernels import RBF\n",
        "from sklearn.tree import DecisionTreeClassifier\n",
        "from sklearn.ensemble import RandomForestClassifier, AdaBoostClassifier\n",
        "from sklearn.naive_bayes import GaussianNB\n",
        "from sklearn.preprocessing import LabelEncoder\n",
        "from sklearn.metrics import accuracy_score\n",
        "from collections import OrderedDict"
      ],
      "execution_count": 0,
      "outputs": []
    },
    {
      "cell_type": "markdown",
      "metadata": {
        "id": "kLJ8_NdPW7Bk",
        "colab_type": "text"
      },
      "source": [
        "## 4.1"
      ]
    },
    {
      "cell_type": "markdown",
      "metadata": {
        "id": "lnSc0fpVXHlv",
        "colab_type": "text"
      },
      "source": [
        "**Import the csv file of the stock which contained the Bollinger columns as well.**"
      ]
    },
    {
      "cell_type": "code",
      "metadata": {
        "id": "1hJInpTaB7c8",
        "colab_type": "code",
        "colab": {}
      },
      "source": [
        "df1 = pd.read_csv(\"/content/drive/My Drive/DataScience/Aspiration Internship/week3_1.csv\")"
      ],
      "execution_count": 0,
      "outputs": []
    },
    {
      "cell_type": "code",
      "metadata": {
        "id": "e88mDJ7YCT1G",
        "colab_type": "code",
        "outputId": "cab1f4a6-821b-4925-a2f2-b97e36bd5a3a",
        "colab": {
          "base_uri": "https://localhost:8080/",
          "height": 340
        }
      },
      "source": [
        "df1.head(10)"
      ],
      "execution_count": 112,
      "outputs": [
        {
          "output_type": "execute_result",
          "data": {
            "text/html": [
              "<div>\n",
              "<style scoped>\n",
              "    .dataframe tbody tr th:only-of-type {\n",
              "        vertical-align: middle;\n",
              "    }\n",
              "\n",
              "    .dataframe tbody tr th {\n",
              "        vertical-align: top;\n",
              "    }\n",
              "\n",
              "    .dataframe thead th {\n",
              "        text-align: right;\n",
              "    }\n",
              "</style>\n",
              "<table border=\"1\" class=\"dataframe\">\n",
              "  <thead>\n",
              "    <tr style=\"text-align: right;\">\n",
              "      <th></th>\n",
              "      <th>14_day_Avg</th>\n",
              "      <th>14_day_std</th>\n",
              "      <th>Close Price</th>\n",
              "      <th>Upper_Band</th>\n",
              "      <th>Lower_Band</th>\n",
              "    </tr>\n",
              "  </thead>\n",
              "  <tbody>\n",
              "    <tr>\n",
              "      <th>0</th>\n",
              "      <td>NaN</td>\n",
              "      <td>NaN</td>\n",
              "      <td>951.55</td>\n",
              "      <td>NaN</td>\n",
              "      <td>NaN</td>\n",
              "    </tr>\n",
              "    <tr>\n",
              "      <th>1</th>\n",
              "      <td>NaN</td>\n",
              "      <td>NaN</td>\n",
              "      <td>955.00</td>\n",
              "      <td>NaN</td>\n",
              "      <td>NaN</td>\n",
              "    </tr>\n",
              "    <tr>\n",
              "      <th>2</th>\n",
              "      <td>NaN</td>\n",
              "      <td>NaN</td>\n",
              "      <td>952.80</td>\n",
              "      <td>NaN</td>\n",
              "      <td>NaN</td>\n",
              "    </tr>\n",
              "    <tr>\n",
              "      <th>3</th>\n",
              "      <td>NaN</td>\n",
              "      <td>NaN</td>\n",
              "      <td>961.75</td>\n",
              "      <td>NaN</td>\n",
              "      <td>NaN</td>\n",
              "    </tr>\n",
              "    <tr>\n",
              "      <th>4</th>\n",
              "      <td>NaN</td>\n",
              "      <td>NaN</td>\n",
              "      <td>957.95</td>\n",
              "      <td>NaN</td>\n",
              "      <td>NaN</td>\n",
              "    </tr>\n",
              "    <tr>\n",
              "      <th>5</th>\n",
              "      <td>NaN</td>\n",
              "      <td>NaN</td>\n",
              "      <td>961.45</td>\n",
              "      <td>NaN</td>\n",
              "      <td>NaN</td>\n",
              "    </tr>\n",
              "    <tr>\n",
              "      <th>6</th>\n",
              "      <td>NaN</td>\n",
              "      <td>NaN</td>\n",
              "      <td>957.30</td>\n",
              "      <td>NaN</td>\n",
              "      <td>NaN</td>\n",
              "    </tr>\n",
              "    <tr>\n",
              "      <th>7</th>\n",
              "      <td>NaN</td>\n",
              "      <td>NaN</td>\n",
              "      <td>954.80</td>\n",
              "      <td>NaN</td>\n",
              "      <td>NaN</td>\n",
              "    </tr>\n",
              "    <tr>\n",
              "      <th>8</th>\n",
              "      <td>NaN</td>\n",
              "      <td>NaN</td>\n",
              "      <td>983.30</td>\n",
              "      <td>NaN</td>\n",
              "      <td>NaN</td>\n",
              "    </tr>\n",
              "    <tr>\n",
              "      <th>9</th>\n",
              "      <td>NaN</td>\n",
              "      <td>NaN</td>\n",
              "      <td>995.70</td>\n",
              "      <td>NaN</td>\n",
              "      <td>NaN</td>\n",
              "    </tr>\n",
              "  </tbody>\n",
              "</table>\n",
              "</div>"
            ],
            "text/plain": [
              "   14_day_Avg  14_day_std  Close Price  Upper_Band  Lower_Band\n",
              "0         NaN         NaN       951.55         NaN         NaN\n",
              "1         NaN         NaN       955.00         NaN         NaN\n",
              "2         NaN         NaN       952.80         NaN         NaN\n",
              "3         NaN         NaN       961.75         NaN         NaN\n",
              "4         NaN         NaN       957.95         NaN         NaN\n",
              "5         NaN         NaN       961.45         NaN         NaN\n",
              "6         NaN         NaN       957.30         NaN         NaN\n",
              "7         NaN         NaN       954.80         NaN         NaN\n",
              "8         NaN         NaN       983.30         NaN         NaN\n",
              "9         NaN         NaN       995.70         NaN         NaN"
            ]
          },
          "metadata": {
            "tags": []
          },
          "execution_count": 112
        }
      ]
    },
    {
      "cell_type": "code",
      "metadata": {
        "id": "lky6JKDTCVRc",
        "colab_type": "code",
        "outputId": "464fa0d1-1617-465e-8c6a-89843a09fb36",
        "colab": {
          "base_uri": "https://localhost:8080/",
          "height": 35
        }
      },
      "source": [
        "df1.shape"
      ],
      "execution_count": 113,
      "outputs": [
        {
          "output_type": "execute_result",
          "data": {
            "text/plain": [
              "(494, 5)"
            ]
          },
          "metadata": {
            "tags": []
          },
          "execution_count": 113
        }
      ]
    },
    {
      "cell_type": "code",
      "metadata": {
        "id": "0MMllJ-ZCXg6",
        "colab_type": "code",
        "colab": {}
      },
      "source": [
        "df1.dropna(inplace=True)"
      ],
      "execution_count": 0,
      "outputs": []
    },
    {
      "cell_type": "code",
      "metadata": {
        "id": "Zze77I_4ClpH",
        "colab_type": "code",
        "outputId": "bcfdaae0-7758-4fbc-978b-9c906fc7695a",
        "colab": {
          "base_uri": "https://localhost:8080/",
          "height": 230
        }
      },
      "source": [
        "df1.info()"
      ],
      "execution_count": 115,
      "outputs": [
        {
          "output_type": "stream",
          "text": [
            "<class 'pandas.core.frame.DataFrame'>\n",
            "Int64Index: 481 entries, 13 to 493\n",
            "Data columns (total 5 columns):\n",
            " #   Column       Non-Null Count  Dtype  \n",
            "---  ------       --------------  -----  \n",
            " 0   14_day_Avg   481 non-null    float64\n",
            " 1   14_day_std   481 non-null    float64\n",
            " 2   Close Price  481 non-null    float64\n",
            " 3   Upper_Band   481 non-null    float64\n",
            " 4   Lower_Band   481 non-null    float64\n",
            "dtypes: float64(5)\n",
            "memory usage: 22.5 KB\n"
          ],
          "name": "stdout"
        }
      ]
    },
    {
      "cell_type": "markdown",
      "metadata": {
        "id": "f9QXbtE5XWIR",
        "colab_type": "text"
      },
      "source": [
        "\n",
        "**Create a new column 'Call' , whose entries are -**\n",
        "*   'Buy' if the stock price is below the lower Bollinger band\n",
        "*   'Hold Buy/ Liquidate Short' if the stock price is between the lower and middle Bollinger band\n",
        "*   'Hold Short/ Liquidate Buy' if the stock price is between the middle and upper Bollinger band\n",
        "*   'Short' if the stock price is above the upper Bollinger band\n",
        "\n"
      ]
    },
    {
      "cell_type": "code",
      "metadata": {
        "id": "YeDsxw5nCpKS",
        "colab_type": "code",
        "colab": {}
      },
      "source": [
        "def call(row):\n",
        "    if row['Close Price'] <= row['Lower_Band']: return 'Buy'    \n",
        "    if row['Close Price'] >= row['Upper_Band']: return 'Short'\n",
        "    if row['Close Price'] == row['Upper_Band']: return 'Hold'    \n",
        "    if row['Close Price'] >  row['14_day_Avg']: return 'Hold Buy / Liquidate Short'\n",
        "    if row['Close Price'] <  row['14_day_Avg']: return 'Hold Short / Liquidate Buy'\n",
        "    \n",
        "df1['Call'] = df1.apply(call, axis=1)"
      ],
      "execution_count": 0,
      "outputs": []
    },
    {
      "cell_type": "code",
      "metadata": {
        "id": "LFNb_xFYC7dn",
        "colab_type": "code",
        "outputId": "51e9d3e9-d30c-4cfe-fbb4-26d5fd0cdf94",
        "colab": {
          "base_uri": "https://localhost:8080/",
          "height": 106
        }
      },
      "source": [
        "df1['Call'].value_counts()"
      ],
      "execution_count": 117,
      "outputs": [
        {
          "output_type": "execute_result",
          "data": {
            "text/plain": [
              "Hold Buy / Liquidate Short    250\n",
              "Hold Short / Liquidate Buy    189\n",
              "Short                          28\n",
              "Buy                            14\n",
              "Name: Call, dtype: int64"
            ]
          },
          "metadata": {
            "tags": []
          },
          "execution_count": 117
        }
      ]
    },
    {
      "cell_type": "markdown",
      "metadata": {
        "id": "xnrOWrUQHp9s",
        "colab_type": "text"
      },
      "source": [
        "**Now train a classification model with the 3 bollinger columns and the stock price as inputs and 'Calls' as output. Check the accuracy on a test set. (There are many classifier models to choose from, try each one out and compare the accuracy for each)**"
      ]
    },
    {
      "cell_type": "code",
      "metadata": {
        "id": "beBG6eTFEh9z",
        "colab_type": "code",
        "colab": {}
      },
      "source": [
        "scaler = StandardScaler()\n",
        "\n",
        "X = df1[['Close Price', '14_day_Avg', 'Upper_Band', 'Lower_Band']]\n",
        "y = df1['Call']\n",
        "X = scaler.fit_transform(X)\n",
        "X_train, X_test, y_train, y_test = train_test_split(X, y, test_size=0.3, random_state=42)\n",
        "\n",
        "max_features = len(y.unique())\n",
        "encoder      = LabelEncoder()"
      ],
      "execution_count": 0,
      "outputs": []
    },
    {
      "cell_type": "code",
      "metadata": {
        "id": "AE9df9S5IH3w",
        "colab_type": "code",
        "colab": {}
      },
      "source": [
        "classifiers = OrderedDict([\n",
        "    ( \"Nearest Neighbors\", KNeighborsClassifier(max_features) ),\n",
        "    ( \"Linear SVM\",        SVC(kernel=\"linear\", C=0.025) ),\n",
        "    ( \"RBF SVM\",           SVC(gamma=2, C=1) ),\n",
        "    ( \"Gaussian Process\",  GaussianProcessClassifier(1.0 * RBF(1.0)) ),\n",
        "    ( \"Decision Tree\",     DecisionTreeClassifier(max_depth=5) ),\n",
        "    ( \"Random Forest\",     RandomForestClassifier(max_depth=5, n_estimators=10, max_features=max_features) ),\n",
        "    ( \"AdaBoost\",          AdaBoostClassifier() ),\n",
        "    ( \"Naive Bayes\",       GaussianNB() ),\n",
        "])"
      ],
      "execution_count": 0,
      "outputs": []
    },
    {
      "cell_type": "code",
      "metadata": {
        "id": "f8Kax7ZAIb-S",
        "colab_type": "code",
        "outputId": "d9f1af2d-d389-4a77-f6dd-b795025aa97e",
        "colab": {
          "base_uri": "https://localhost:8080/",
          "height": 159
        }
      },
      "source": [
        "scores = {}\n",
        "for (name, classifier) in classifiers.items():\n",
        "  classifier.fit(X_train, y_train)\n",
        "  scores[name] = classifier.score(X_test, y_test)\n",
        "    \n",
        "scores = OrderedDict(sorted(scores.items(), key=lambda x: x[1]))\n",
        "scores"
      ],
      "execution_count": 120,
      "outputs": [
        {
          "output_type": "execute_result",
          "data": {
            "text/plain": [
              "OrderedDict([('AdaBoost', 0.503448275862069),\n",
              "             ('Naive Bayes', 0.5172413793103449),\n",
              "             ('Linear SVM', 0.5241379310344828),\n",
              "             ('Decision Tree', 0.7034482758620689),\n",
              "             ('RBF SVM', 0.7586206896551724),\n",
              "             ('Random Forest', 0.7862068965517242),\n",
              "             ('Nearest Neighbors', 0.8689655172413793),\n",
              "             ('Gaussian Process', 0.9241379310344827)])"
            ]
          },
          "metadata": {
            "tags": []
          },
          "execution_count": 120
        }
      ]
    },
    {
      "cell_type": "markdown",
      "metadata": {
        "id": "pGtgn82Ki9OZ",
        "colab_type": "text"
      },
      "source": [
        "**Description :**\n",
        "Here we found that, Gaussian Process has the highest score value, i.e. 92.41%"
      ]
    },
    {
      "cell_type": "markdown",
      "metadata": {
        "id": "Km7Hk6OjJaon",
        "colab_type": "text"
      },
      "source": [
        "**Import another stock data and create the bollinger columns. Using the already defined model, predict the daily calls for this new stock.**"
      ]
    },
    {
      "cell_type": "code",
      "metadata": {
        "id": "PYnw7jdMIskg",
        "colab_type": "code",
        "colab": {}
      },
      "source": [
        "infosys_df = pd.read_csv(\"/content/drive/My Drive/DataScience/Aspiration Internship/week2.csv\")"
      ],
      "execution_count": 0,
      "outputs": []
    },
    {
      "cell_type": "code",
      "metadata": {
        "id": "p7teXUWPJvUt",
        "colab_type": "code",
        "outputId": "24233279-6a47-4b08-f162-826d8619d01d",
        "colab": {
          "base_uri": "https://localhost:8080/",
          "height": 363
        }
      },
      "source": [
        "infosys_df.head()"
      ],
      "execution_count": 122,
      "outputs": [
        {
          "output_type": "execute_result",
          "data": {
            "text/html": [
              "<div>\n",
              "<style scoped>\n",
              "    .dataframe tbody tr th:only-of-type {\n",
              "        vertical-align: middle;\n",
              "    }\n",
              "\n",
              "    .dataframe tbody tr th {\n",
              "        vertical-align: top;\n",
              "    }\n",
              "\n",
              "    .dataframe thead th {\n",
              "        text-align: right;\n",
              "    }\n",
              "</style>\n",
              "<table border=\"1\" class=\"dataframe\">\n",
              "  <thead>\n",
              "    <tr style=\"text-align: right;\">\n",
              "      <th></th>\n",
              "      <th>Symbol</th>\n",
              "      <th>Series</th>\n",
              "      <th>Date</th>\n",
              "      <th>Prev Close</th>\n",
              "      <th>Open Price</th>\n",
              "      <th>High Price</th>\n",
              "      <th>Low Price</th>\n",
              "      <th>Last Price</th>\n",
              "      <th>Close Price</th>\n",
              "      <th>Average Price</th>\n",
              "      <th>Total Traded Quantity</th>\n",
              "      <th>Turnover</th>\n",
              "      <th>No. of Trades</th>\n",
              "      <th>Deliverable Qty</th>\n",
              "      <th>% Dly Qt to Traded Qty</th>\n",
              "      <th>year</th>\n",
              "      <th>month</th>\n",
              "      <th>vwap</th>\n",
              "      <th>PCT_change</th>\n",
              "      <th>Trend</th>\n",
              "    </tr>\n",
              "  </thead>\n",
              "  <tbody>\n",
              "    <tr>\n",
              "      <th>0</th>\n",
              "      <td>INFY</td>\n",
              "      <td>EQ</td>\n",
              "      <td>2017-05-15</td>\n",
              "      <td>964.25</td>\n",
              "      <td>963.5</td>\n",
              "      <td>963.50</td>\n",
              "      <td>949.10</td>\n",
              "      <td>953.25</td>\n",
              "      <td>951.55</td>\n",
              "      <td>951.49</td>\n",
              "      <td>3648582</td>\n",
              "      <td>3.471580e+09</td>\n",
              "      <td>75335</td>\n",
              "      <td>3052819</td>\n",
              "      <td>83.67</td>\n",
              "      <td>2017</td>\n",
              "      <td>5</td>\n",
              "      <td>951.550000</td>\n",
              "      <td>0.000000</td>\n",
              "      <td>Slight or No change</td>\n",
              "    </tr>\n",
              "    <tr>\n",
              "      <th>1</th>\n",
              "      <td>INFY</td>\n",
              "      <td>EQ</td>\n",
              "      <td>2017-05-16</td>\n",
              "      <td>951.55</td>\n",
              "      <td>953.1</td>\n",
              "      <td>960.15</td>\n",
              "      <td>946.95</td>\n",
              "      <td>956.00</td>\n",
              "      <td>955.00</td>\n",
              "      <td>952.92</td>\n",
              "      <td>3065084</td>\n",
              "      <td>2.920775e+09</td>\n",
              "      <td>71808</td>\n",
              "      <td>1858063</td>\n",
              "      <td>60.62</td>\n",
              "      <td>2017</td>\n",
              "      <td>5</td>\n",
              "      <td>953.125077</td>\n",
              "      <td>0.003626</td>\n",
              "      <td>Slight or No change</td>\n",
              "    </tr>\n",
              "    <tr>\n",
              "      <th>2</th>\n",
              "      <td>INFY</td>\n",
              "      <td>EQ</td>\n",
              "      <td>2017-05-17</td>\n",
              "      <td>955.00</td>\n",
              "      <td>951.6</td>\n",
              "      <td>958.45</td>\n",
              "      <td>943.85</td>\n",
              "      <td>952.90</td>\n",
              "      <td>952.80</td>\n",
              "      <td>949.48</td>\n",
              "      <td>1457754</td>\n",
              "      <td>1.384110e+09</td>\n",
              "      <td>75429</td>\n",
              "      <td>792251</td>\n",
              "      <td>54.35</td>\n",
              "      <td>2017</td>\n",
              "      <td>5</td>\n",
              "      <td>953.067084</td>\n",
              "      <td>-0.002304</td>\n",
              "      <td>Slight or No change</td>\n",
              "    </tr>\n",
              "    <tr>\n",
              "      <th>3</th>\n",
              "      <td>INFY</td>\n",
              "      <td>EQ</td>\n",
              "      <td>2017-05-18</td>\n",
              "      <td>952.80</td>\n",
              "      <td>943.0</td>\n",
              "      <td>973.90</td>\n",
              "      <td>942.85</td>\n",
              "      <td>960.25</td>\n",
              "      <td>961.75</td>\n",
              "      <td>962.61</td>\n",
              "      <td>4028924</td>\n",
              "      <td>3.878282e+09</td>\n",
              "      <td>120990</td>\n",
              "      <td>2309450</td>\n",
              "      <td>57.32</td>\n",
              "      <td>2017</td>\n",
              "      <td>5</td>\n",
              "      <td>955.934447</td>\n",
              "      <td>0.009393</td>\n",
              "      <td>Slight positive</td>\n",
              "    </tr>\n",
              "    <tr>\n",
              "      <th>4</th>\n",
              "      <td>INFY</td>\n",
              "      <td>EQ</td>\n",
              "      <td>2017-05-19</td>\n",
              "      <td>961.75</td>\n",
              "      <td>961.5</td>\n",
              "      <td>962.70</td>\n",
              "      <td>947.85</td>\n",
              "      <td>957.40</td>\n",
              "      <td>957.95</td>\n",
              "      <td>954.18</td>\n",
              "      <td>2128698</td>\n",
              "      <td>2.031155e+09</td>\n",
              "      <td>88897</td>\n",
              "      <td>1457747</td>\n",
              "      <td>68.48</td>\n",
              "      <td>2017</td>\n",
              "      <td>5</td>\n",
              "      <td>956.233874</td>\n",
              "      <td>-0.003951</td>\n",
              "      <td>Slight or No change</td>\n",
              "    </tr>\n",
              "  </tbody>\n",
              "</table>\n",
              "</div>"
            ],
            "text/plain": [
              "  Symbol Series        Date  ...        vwap  PCT_change                Trend\n",
              "0   INFY     EQ  2017-05-15  ...  951.550000    0.000000  Slight or No change\n",
              "1   INFY     EQ  2017-05-16  ...  953.125077    0.003626  Slight or No change\n",
              "2   INFY     EQ  2017-05-17  ...  953.067084   -0.002304  Slight or No change\n",
              "3   INFY     EQ  2017-05-18  ...  955.934447    0.009393      Slight positive\n",
              "4   INFY     EQ  2017-05-19  ...  956.233874   -0.003951  Slight or No change\n",
              "\n",
              "[5 rows x 20 columns]"
            ]
          },
          "metadata": {
            "tags": []
          },
          "execution_count": 122
        }
      ]
    },
    {
      "cell_type": "code",
      "metadata": {
        "id": "pQDWVKR2Jxwi",
        "colab_type": "code",
        "colab": {}
      },
      "source": [
        "infosys_df['Date']=pd.to_datetime(infosys_df['Date'])"
      ],
      "execution_count": 0,
      "outputs": []
    },
    {
      "cell_type": "code",
      "metadata": {
        "id": "Sek8ky0RKZ3j",
        "colab_type": "code",
        "colab": {}
      },
      "source": [
        "infosys_df.set_index('Date', inplace=True)"
      ],
      "execution_count": 0,
      "outputs": []
    },
    {
      "cell_type": "code",
      "metadata": {
        "id": "0aeTbA8JK76q",
        "colab_type": "code",
        "colab": {}
      },
      "source": [
        "infosys_df = infosys_df[ infosys_df.Series == 'EQ' ]"
      ],
      "execution_count": 0,
      "outputs": []
    },
    {
      "cell_type": "code",
      "metadata": {
        "id": "BTUvwoEsKoIg",
        "colab_type": "code",
        "outputId": "5088a8d8-2a22-473e-ffd6-e8b4b2f77d11",
        "colab": {
          "base_uri": "https://localhost:8080/",
          "height": 392
        }
      },
      "source": [
        "infosys_df.head()"
      ],
      "execution_count": 126,
      "outputs": [
        {
          "output_type": "execute_result",
          "data": {
            "text/html": [
              "<div>\n",
              "<style scoped>\n",
              "    .dataframe tbody tr th:only-of-type {\n",
              "        vertical-align: middle;\n",
              "    }\n",
              "\n",
              "    .dataframe tbody tr th {\n",
              "        vertical-align: top;\n",
              "    }\n",
              "\n",
              "    .dataframe thead th {\n",
              "        text-align: right;\n",
              "    }\n",
              "</style>\n",
              "<table border=\"1\" class=\"dataframe\">\n",
              "  <thead>\n",
              "    <tr style=\"text-align: right;\">\n",
              "      <th></th>\n",
              "      <th>Symbol</th>\n",
              "      <th>Series</th>\n",
              "      <th>Prev Close</th>\n",
              "      <th>Open Price</th>\n",
              "      <th>High Price</th>\n",
              "      <th>Low Price</th>\n",
              "      <th>Last Price</th>\n",
              "      <th>Close Price</th>\n",
              "      <th>Average Price</th>\n",
              "      <th>Total Traded Quantity</th>\n",
              "      <th>Turnover</th>\n",
              "      <th>No. of Trades</th>\n",
              "      <th>Deliverable Qty</th>\n",
              "      <th>% Dly Qt to Traded Qty</th>\n",
              "      <th>year</th>\n",
              "      <th>month</th>\n",
              "      <th>vwap</th>\n",
              "      <th>PCT_change</th>\n",
              "      <th>Trend</th>\n",
              "    </tr>\n",
              "    <tr>\n",
              "      <th>Date</th>\n",
              "      <th></th>\n",
              "      <th></th>\n",
              "      <th></th>\n",
              "      <th></th>\n",
              "      <th></th>\n",
              "      <th></th>\n",
              "      <th></th>\n",
              "      <th></th>\n",
              "      <th></th>\n",
              "      <th></th>\n",
              "      <th></th>\n",
              "      <th></th>\n",
              "      <th></th>\n",
              "      <th></th>\n",
              "      <th></th>\n",
              "      <th></th>\n",
              "      <th></th>\n",
              "      <th></th>\n",
              "      <th></th>\n",
              "    </tr>\n",
              "  </thead>\n",
              "  <tbody>\n",
              "    <tr>\n",
              "      <th>2017-05-15</th>\n",
              "      <td>INFY</td>\n",
              "      <td>EQ</td>\n",
              "      <td>964.25</td>\n",
              "      <td>963.5</td>\n",
              "      <td>963.50</td>\n",
              "      <td>949.10</td>\n",
              "      <td>953.25</td>\n",
              "      <td>951.55</td>\n",
              "      <td>951.49</td>\n",
              "      <td>3648582</td>\n",
              "      <td>3.471580e+09</td>\n",
              "      <td>75335</td>\n",
              "      <td>3052819</td>\n",
              "      <td>83.67</td>\n",
              "      <td>2017</td>\n",
              "      <td>5</td>\n",
              "      <td>951.550000</td>\n",
              "      <td>0.000000</td>\n",
              "      <td>Slight or No change</td>\n",
              "    </tr>\n",
              "    <tr>\n",
              "      <th>2017-05-16</th>\n",
              "      <td>INFY</td>\n",
              "      <td>EQ</td>\n",
              "      <td>951.55</td>\n",
              "      <td>953.1</td>\n",
              "      <td>960.15</td>\n",
              "      <td>946.95</td>\n",
              "      <td>956.00</td>\n",
              "      <td>955.00</td>\n",
              "      <td>952.92</td>\n",
              "      <td>3065084</td>\n",
              "      <td>2.920775e+09</td>\n",
              "      <td>71808</td>\n",
              "      <td>1858063</td>\n",
              "      <td>60.62</td>\n",
              "      <td>2017</td>\n",
              "      <td>5</td>\n",
              "      <td>953.125077</td>\n",
              "      <td>0.003626</td>\n",
              "      <td>Slight or No change</td>\n",
              "    </tr>\n",
              "    <tr>\n",
              "      <th>2017-05-17</th>\n",
              "      <td>INFY</td>\n",
              "      <td>EQ</td>\n",
              "      <td>955.00</td>\n",
              "      <td>951.6</td>\n",
              "      <td>958.45</td>\n",
              "      <td>943.85</td>\n",
              "      <td>952.90</td>\n",
              "      <td>952.80</td>\n",
              "      <td>949.48</td>\n",
              "      <td>1457754</td>\n",
              "      <td>1.384110e+09</td>\n",
              "      <td>75429</td>\n",
              "      <td>792251</td>\n",
              "      <td>54.35</td>\n",
              "      <td>2017</td>\n",
              "      <td>5</td>\n",
              "      <td>953.067084</td>\n",
              "      <td>-0.002304</td>\n",
              "      <td>Slight or No change</td>\n",
              "    </tr>\n",
              "    <tr>\n",
              "      <th>2017-05-18</th>\n",
              "      <td>INFY</td>\n",
              "      <td>EQ</td>\n",
              "      <td>952.80</td>\n",
              "      <td>943.0</td>\n",
              "      <td>973.90</td>\n",
              "      <td>942.85</td>\n",
              "      <td>960.25</td>\n",
              "      <td>961.75</td>\n",
              "      <td>962.61</td>\n",
              "      <td>4028924</td>\n",
              "      <td>3.878282e+09</td>\n",
              "      <td>120990</td>\n",
              "      <td>2309450</td>\n",
              "      <td>57.32</td>\n",
              "      <td>2017</td>\n",
              "      <td>5</td>\n",
              "      <td>955.934447</td>\n",
              "      <td>0.009393</td>\n",
              "      <td>Slight positive</td>\n",
              "    </tr>\n",
              "    <tr>\n",
              "      <th>2017-05-19</th>\n",
              "      <td>INFY</td>\n",
              "      <td>EQ</td>\n",
              "      <td>961.75</td>\n",
              "      <td>961.5</td>\n",
              "      <td>962.70</td>\n",
              "      <td>947.85</td>\n",
              "      <td>957.40</td>\n",
              "      <td>957.95</td>\n",
              "      <td>954.18</td>\n",
              "      <td>2128698</td>\n",
              "      <td>2.031155e+09</td>\n",
              "      <td>88897</td>\n",
              "      <td>1457747</td>\n",
              "      <td>68.48</td>\n",
              "      <td>2017</td>\n",
              "      <td>5</td>\n",
              "      <td>956.233874</td>\n",
              "      <td>-0.003951</td>\n",
              "      <td>Slight or No change</td>\n",
              "    </tr>\n",
              "  </tbody>\n",
              "</table>\n",
              "</div>"
            ],
            "text/plain": [
              "           Symbol Series  ...  PCT_change                Trend\n",
              "Date                      ...                                 \n",
              "2017-05-15   INFY     EQ  ...    0.000000  Slight or No change\n",
              "2017-05-16   INFY     EQ  ...    0.003626  Slight or No change\n",
              "2017-05-17   INFY     EQ  ...   -0.002304  Slight or No change\n",
              "2017-05-18   INFY     EQ  ...    0.009393      Slight positive\n",
              "2017-05-19   INFY     EQ  ...   -0.003951  Slight or No change\n",
              "\n",
              "[5 rows x 19 columns]"
            ]
          },
          "metadata": {
            "tags": []
          },
          "execution_count": 126
        }
      ]
    },
    {
      "cell_type": "code",
      "metadata": {
        "id": "pbmyfR41KtmZ",
        "colab_type": "code",
        "colab": {}
      },
      "source": [
        "infosys_df[\"14_day_Avg\"] = infosys_df['Close Price'].rolling(14).mean()\n",
        "infosys_df[\"14_day_Std\"] = infosys_df['Close Price'].rolling(14).std()\n",
        "infosys_df['Upper_Band'] = infosys_df['14_day_Avg'] + infosys_df['14_day_Std']*2\n",
        "infosys_df['Lower_Band'] = infosys_df['14_day_Avg'] - infosys_df['14_day_Std']*2"
      ],
      "execution_count": 0,
      "outputs": []
    },
    {
      "cell_type": "code",
      "metadata": {
        "id": "t409TY8fLyqA",
        "colab_type": "code",
        "colab": {}
      },
      "source": [
        "infosys_df.dropna(inplace=True)"
      ],
      "execution_count": 0,
      "outputs": []
    },
    {
      "cell_type": "code",
      "metadata": {
        "id": "DOaJz0YxMJJX",
        "colab_type": "code",
        "colab": {}
      },
      "source": [
        "infosys_df_X = scaler.fit_transform( infosys_df[['Close Price', '14_day_Std', 'Upper_Band', 'Lower_Band']] )"
      ],
      "execution_count": 0,
      "outputs": []
    },
    {
      "cell_type": "code",
      "metadata": {
        "id": "92hIwQKgNH0n",
        "colab_type": "code",
        "colab": {}
      },
      "source": [
        "infosys_df['Call']      = classifiers[\"Naive Bayes\"].predict( infosys_df_X )  # using previously trained Naive Bayes\n",
        "infosys_df['Call_Code'] = encoder.fit(infosys_df['Call']).transform(infosys_df['Call'])"
      ],
      "execution_count": 0,
      "outputs": []
    },
    {
      "cell_type": "code",
      "metadata": {
        "id": "mD69zobNNLN2",
        "colab_type": "code",
        "outputId": "47334b12-01a0-4849-f5f7-d4156eec30ef",
        "colab": {
          "base_uri": "https://localhost:8080/",
          "height": 70
        }
      },
      "source": [
        "infosys_df['Call'].value_counts()"
      ],
      "execution_count": 131,
      "outputs": [
        {
          "output_type": "execute_result",
          "data": {
            "text/plain": [
              "Hold Buy / Liquidate Short    274\n",
              "Hold Short / Liquidate Buy    207\n",
              "Name: Call, dtype: int64"
            ]
          },
          "metadata": {
            "tags": []
          },
          "execution_count": 131
        }
      ]
    },
    {
      "cell_type": "code",
      "metadata": {
        "id": "SrBasj7HNlo4",
        "colab_type": "code",
        "outputId": "a14e4d0a-d0d2-4b86-f75b-2f0ea4e1239d",
        "colab": {
          "base_uri": "https://localhost:8080/",
          "height": 70
        }
      },
      "source": [
        "infosys_df['Call_Code'].value_counts()"
      ],
      "execution_count": 132,
      "outputs": [
        {
          "output_type": "execute_result",
          "data": {
            "text/plain": [
              "0    274\n",
              "1    207\n",
              "Name: Call_Code, dtype: int64"
            ]
          },
          "metadata": {
            "tags": []
          },
          "execution_count": 132
        }
      ]
    },
    {
      "cell_type": "code",
      "metadata": {
        "id": "aB_yKI4MNZep",
        "colab_type": "code",
        "outputId": "335a1c0d-2077-4d6f-c914-8a3e7ba3e89e",
        "colab": {
          "base_uri": "https://localhost:8080/",
          "height": 547
        }
      },
      "source": [
        "infosys_df.head()"
      ],
      "execution_count": 133,
      "outputs": [
        {
          "output_type": "execute_result",
          "data": {
            "text/html": [
              "<div>\n",
              "<style scoped>\n",
              "    .dataframe tbody tr th:only-of-type {\n",
              "        vertical-align: middle;\n",
              "    }\n",
              "\n",
              "    .dataframe tbody tr th {\n",
              "        vertical-align: top;\n",
              "    }\n",
              "\n",
              "    .dataframe thead th {\n",
              "        text-align: right;\n",
              "    }\n",
              "</style>\n",
              "<table border=\"1\" class=\"dataframe\">\n",
              "  <thead>\n",
              "    <tr style=\"text-align: right;\">\n",
              "      <th></th>\n",
              "      <th>Symbol</th>\n",
              "      <th>Series</th>\n",
              "      <th>Prev Close</th>\n",
              "      <th>Open Price</th>\n",
              "      <th>High Price</th>\n",
              "      <th>Low Price</th>\n",
              "      <th>Last Price</th>\n",
              "      <th>Close Price</th>\n",
              "      <th>Average Price</th>\n",
              "      <th>Total Traded Quantity</th>\n",
              "      <th>Turnover</th>\n",
              "      <th>No. of Trades</th>\n",
              "      <th>Deliverable Qty</th>\n",
              "      <th>% Dly Qt to Traded Qty</th>\n",
              "      <th>year</th>\n",
              "      <th>month</th>\n",
              "      <th>vwap</th>\n",
              "      <th>PCT_change</th>\n",
              "      <th>Trend</th>\n",
              "      <th>14_day_Avg</th>\n",
              "      <th>14_day_Std</th>\n",
              "      <th>Upper_Band</th>\n",
              "      <th>Lower_Band</th>\n",
              "      <th>Call</th>\n",
              "      <th>Call_Code</th>\n",
              "    </tr>\n",
              "    <tr>\n",
              "      <th>Date</th>\n",
              "      <th></th>\n",
              "      <th></th>\n",
              "      <th></th>\n",
              "      <th></th>\n",
              "      <th></th>\n",
              "      <th></th>\n",
              "      <th></th>\n",
              "      <th></th>\n",
              "      <th></th>\n",
              "      <th></th>\n",
              "      <th></th>\n",
              "      <th></th>\n",
              "      <th></th>\n",
              "      <th></th>\n",
              "      <th></th>\n",
              "      <th></th>\n",
              "      <th></th>\n",
              "      <th></th>\n",
              "      <th></th>\n",
              "      <th></th>\n",
              "      <th></th>\n",
              "      <th></th>\n",
              "      <th></th>\n",
              "      <th></th>\n",
              "      <th></th>\n",
              "    </tr>\n",
              "  </thead>\n",
              "  <tbody>\n",
              "    <tr>\n",
              "      <th>2017-06-01</th>\n",
              "      <td>INFY</td>\n",
              "      <td>EQ</td>\n",
              "      <td>977.05</td>\n",
              "      <td>969.3</td>\n",
              "      <td>979.70</td>\n",
              "      <td>958.55</td>\n",
              "      <td>971.25</td>\n",
              "      <td>971.40</td>\n",
              "      <td>969.49</td>\n",
              "      <td>2754303</td>\n",
              "      <td>2.670263e+09</td>\n",
              "      <td>81421</td>\n",
              "      <td>1822506</td>\n",
              "      <td>66.17</td>\n",
              "      <td>2017</td>\n",
              "      <td>6</td>\n",
              "      <td>971.400000</td>\n",
              "      <td>-0.005783</td>\n",
              "      <td>Slight negative</td>\n",
              "      <td>968.671429</td>\n",
              "      <td>15.981320</td>\n",
              "      <td>1000.634068</td>\n",
              "      <td>936.708789</td>\n",
              "      <td>Hold Buy / Liquidate Short</td>\n",
              "      <td>0</td>\n",
              "    </tr>\n",
              "    <tr>\n",
              "      <th>2017-06-02</th>\n",
              "      <td>INFY</td>\n",
              "      <td>EQ</td>\n",
              "      <td>971.40</td>\n",
              "      <td>973.4</td>\n",
              "      <td>975.45</td>\n",
              "      <td>964.20</td>\n",
              "      <td>966.00</td>\n",
              "      <td>969.45</td>\n",
              "      <td>968.76</td>\n",
              "      <td>1958983</td>\n",
              "      <td>1.897793e+09</td>\n",
              "      <td>48927</td>\n",
              "      <td>1396644</td>\n",
              "      <td>71.29</td>\n",
              "      <td>2017</td>\n",
              "      <td>6</td>\n",
              "      <td>970.589522</td>\n",
              "      <td>-0.002007</td>\n",
              "      <td>Slight or No change</td>\n",
              "      <td>969.950000</td>\n",
              "      <td>15.203264</td>\n",
              "      <td>1000.356528</td>\n",
              "      <td>939.543472</td>\n",
              "      <td>Hold Buy / Liquidate Short</td>\n",
              "      <td>0</td>\n",
              "    </tr>\n",
              "    <tr>\n",
              "      <th>2017-06-05</th>\n",
              "      <td>INFY</td>\n",
              "      <td>EQ</td>\n",
              "      <td>969.45</td>\n",
              "      <td>970.0</td>\n",
              "      <td>972.00</td>\n",
              "      <td>957.05</td>\n",
              "      <td>959.00</td>\n",
              "      <td>958.75</td>\n",
              "      <td>961.71</td>\n",
              "      <td>2731349</td>\n",
              "      <td>2.626761e+09</td>\n",
              "      <td>83794</td>\n",
              "      <td>1941199</td>\n",
              "      <td>71.07</td>\n",
              "      <td>2017</td>\n",
              "      <td>6</td>\n",
              "      <td>966.245740</td>\n",
              "      <td>-0.011037</td>\n",
              "      <td>Negative</td>\n",
              "      <td>970.217857</td>\n",
              "      <td>14.950542</td>\n",
              "      <td>1000.118940</td>\n",
              "      <td>940.316774</td>\n",
              "      <td>Hold Buy / Liquidate Short</td>\n",
              "      <td>0</td>\n",
              "    </tr>\n",
              "    <tr>\n",
              "      <th>2017-06-06</th>\n",
              "      <td>INFY</td>\n",
              "      <td>EQ</td>\n",
              "      <td>958.75</td>\n",
              "      <td>965.0</td>\n",
              "      <td>987.50</td>\n",
              "      <td>964.40</td>\n",
              "      <td>980.00</td>\n",
              "      <td>979.35</td>\n",
              "      <td>980.08</td>\n",
              "      <td>3504343</td>\n",
              "      <td>3.434526e+09</td>\n",
              "      <td>83178</td>\n",
              "      <td>2018029</td>\n",
              "      <td>57.59</td>\n",
              "      <td>2017</td>\n",
              "      <td>6</td>\n",
              "      <td>970.439905</td>\n",
              "      <td>0.021486</td>\n",
              "      <td>Positive</td>\n",
              "      <td>972.114286</td>\n",
              "      <td>14.238105</td>\n",
              "      <td>1000.590495</td>\n",
              "      <td>943.638076</td>\n",
              "      <td>Hold Buy / Liquidate Short</td>\n",
              "      <td>0</td>\n",
              "    </tr>\n",
              "    <tr>\n",
              "      <th>2017-06-07</th>\n",
              "      <td>INFY</td>\n",
              "      <td>EQ</td>\n",
              "      <td>979.35</td>\n",
              "      <td>985.0</td>\n",
              "      <td>988.90</td>\n",
              "      <td>945.00</td>\n",
              "      <td>959.30</td>\n",
              "      <td>961.30</td>\n",
              "      <td>963.75</td>\n",
              "      <td>6227523</td>\n",
              "      <td>6.001805e+09</td>\n",
              "      <td>139990</td>\n",
              "      <td>2519343</td>\n",
              "      <td>40.45</td>\n",
              "      <td>2017</td>\n",
              "      <td>6</td>\n",
              "      <td>967.126136</td>\n",
              "      <td>-0.018431</td>\n",
              "      <td>Negative</td>\n",
              "      <td>972.082143</td>\n",
              "      <td>14.263787</td>\n",
              "      <td>1000.609717</td>\n",
              "      <td>943.554569</td>\n",
              "      <td>Hold Buy / Liquidate Short</td>\n",
              "      <td>0</td>\n",
              "    </tr>\n",
              "  </tbody>\n",
              "</table>\n",
              "</div>"
            ],
            "text/plain": [
              "           Symbol Series  ...                        Call  Call_Code\n",
              "Date                      ...                                       \n",
              "2017-06-01   INFY     EQ  ...  Hold Buy / Liquidate Short          0\n",
              "2017-06-02   INFY     EQ  ...  Hold Buy / Liquidate Short          0\n",
              "2017-06-05   INFY     EQ  ...  Hold Buy / Liquidate Short          0\n",
              "2017-06-06   INFY     EQ  ...  Hold Buy / Liquidate Short          0\n",
              "2017-06-07   INFY     EQ  ...  Hold Buy / Liquidate Short          0\n",
              "\n",
              "[5 rows x 25 columns]"
            ]
          },
          "metadata": {
            "tags": []
          },
          "execution_count": 133
        }
      ]
    },
    {
      "cell_type": "markdown",
      "metadata": {
        "id": "sYI-hzOEPwjM",
        "colab_type": "text"
      },
      "source": [
        "## 4.2"
      ]
    },
    {
      "cell_type": "markdown",
      "metadata": {
        "id": "bwQVO3GLYGma",
        "colab_type": "text"
      },
      "source": [
        "**Now, we'll again utilize classification to make a trade call, and measure the efficiency of our trading algorithm over the past two years. For this assignment , we will use RandomForest classifier.**"
      ]
    },
    {
      "cell_type": "markdown",
      "metadata": {
        "id": "jxZGWG9pYOWh",
        "colab_type": "text"
      },
      "source": [
        "Here We are import IDFC Dataset"
      ]
    },
    {
      "cell_type": "code",
      "metadata": {
        "id": "671NXND-OUY6",
        "colab_type": "code",
        "colab": {}
      },
      "source": [
        "idfc_df = pd.read_csv(\"/content/drive/My Drive/DataScience/Aspiration Internship/IDFC.csv\")\n",
        "index_drop = idfc_df.Series[idfc_df['Series'] != 'EQ'].index\n",
        "idfc_df.drop(index_drop, inplace=True)\n",
        "idfc_df['Date']=pd.to_datetime(idfc_df['Date'])\n",
        "idfc_df.set_index('Date', inplace=True)"
      ],
      "execution_count": 0,
      "outputs": []
    },
    {
      "cell_type": "code",
      "metadata": {
        "id": "tkMFC2xNQ26I",
        "colab_type": "code",
        "colab": {}
      },
      "source": [
        "idfc_df[\"PCT_change\"] = idfc_df[\"Close Price\"].pct_change()"
      ],
      "execution_count": 0,
      "outputs": []
    },
    {
      "cell_type": "code",
      "metadata": {
        "id": "MwXY-BewRO1l",
        "colab_type": "code",
        "outputId": "4e8fe86f-a9a3-4fd7-8c08-fc4d8018a5de",
        "colab": {
          "base_uri": "https://localhost:8080/",
          "height": 35
        }
      },
      "source": [
        "idfc_df.shape"
      ],
      "execution_count": 136,
      "outputs": [
        {
          "output_type": "execute_result",
          "data": {
            "text/plain": [
              "(494, 15)"
            ]
          },
          "metadata": {
            "tags": []
          },
          "execution_count": 136
        }
      ]
    },
    {
      "cell_type": "code",
      "metadata": {
        "id": "SUbY8NXJRIIh",
        "colab_type": "code",
        "colab": {}
      },
      "source": [
        "idfc_df.dropna(inplace=True)"
      ],
      "execution_count": 0,
      "outputs": []
    },
    {
      "cell_type": "code",
      "metadata": {
        "id": "QX-Z0qtpRU4f",
        "colab_type": "code",
        "outputId": "9f16ff21-5b68-4b49-9986-4500157818e5",
        "colab": {
          "base_uri": "https://localhost:8080/",
          "height": 35
        }
      },
      "source": [
        "idfc_df.shape"
      ],
      "execution_count": 138,
      "outputs": [
        {
          "output_type": "execute_result",
          "data": {
            "text/plain": [
              "(493, 15)"
            ]
          },
          "metadata": {
            "tags": []
          },
          "execution_count": 138
        }
      ]
    },
    {
      "cell_type": "code",
      "metadata": {
        "id": "rPuveqwhQZVp",
        "colab_type": "code",
        "outputId": "f9de8e7a-4350-4a21-9ac7-0f0da0d154e5",
        "colab": {
          "base_uri": "https://localhost:8080/",
          "height": 324
        }
      },
      "source": [
        "idfc_df.head()"
      ],
      "execution_count": 139,
      "outputs": [
        {
          "output_type": "execute_result",
          "data": {
            "text/html": [
              "<div>\n",
              "<style scoped>\n",
              "    .dataframe tbody tr th:only-of-type {\n",
              "        vertical-align: middle;\n",
              "    }\n",
              "\n",
              "    .dataframe tbody tr th {\n",
              "        vertical-align: top;\n",
              "    }\n",
              "\n",
              "    .dataframe thead th {\n",
              "        text-align: right;\n",
              "    }\n",
              "</style>\n",
              "<table border=\"1\" class=\"dataframe\">\n",
              "  <thead>\n",
              "    <tr style=\"text-align: right;\">\n",
              "      <th></th>\n",
              "      <th>Symbol</th>\n",
              "      <th>Series</th>\n",
              "      <th>Prev Close</th>\n",
              "      <th>Open Price</th>\n",
              "      <th>High Price</th>\n",
              "      <th>Low Price</th>\n",
              "      <th>Last Price</th>\n",
              "      <th>Close Price</th>\n",
              "      <th>Average Price</th>\n",
              "      <th>Total Traded Quantity</th>\n",
              "      <th>Turnover</th>\n",
              "      <th>No. of Trades</th>\n",
              "      <th>Deliverable Qty</th>\n",
              "      <th>% Dly Qt to Traded Qty</th>\n",
              "      <th>PCT_change</th>\n",
              "    </tr>\n",
              "    <tr>\n",
              "      <th>Date</th>\n",
              "      <th></th>\n",
              "      <th></th>\n",
              "      <th></th>\n",
              "      <th></th>\n",
              "      <th></th>\n",
              "      <th></th>\n",
              "      <th></th>\n",
              "      <th></th>\n",
              "      <th></th>\n",
              "      <th></th>\n",
              "      <th></th>\n",
              "      <th></th>\n",
              "      <th></th>\n",
              "      <th></th>\n",
              "      <th></th>\n",
              "    </tr>\n",
              "  </thead>\n",
              "  <tbody>\n",
              "    <tr>\n",
              "      <th>2017-05-16</th>\n",
              "      <td>IDFC</td>\n",
              "      <td>EQ</td>\n",
              "      <td>63.70</td>\n",
              "      <td>64.00</td>\n",
              "      <td>64.60</td>\n",
              "      <td>62.90</td>\n",
              "      <td>64.55</td>\n",
              "      <td>64.25</td>\n",
              "      <td>63.80</td>\n",
              "      <td>4014549</td>\n",
              "      <td>2.561355e+08</td>\n",
              "      <td>12172</td>\n",
              "      <td>1694524</td>\n",
              "      <td>42.21</td>\n",
              "      <td>0.008634</td>\n",
              "    </tr>\n",
              "    <tr>\n",
              "      <th>2017-05-17</th>\n",
              "      <td>IDFC</td>\n",
              "      <td>EQ</td>\n",
              "      <td>64.25</td>\n",
              "      <td>64.65</td>\n",
              "      <td>64.65</td>\n",
              "      <td>63.25</td>\n",
              "      <td>63.25</td>\n",
              "      <td>63.35</td>\n",
              "      <td>63.58</td>\n",
              "      <td>4184709</td>\n",
              "      <td>2.660487e+08</td>\n",
              "      <td>6189</td>\n",
              "      <td>2802239</td>\n",
              "      <td>66.96</td>\n",
              "      <td>-0.014008</td>\n",
              "    </tr>\n",
              "    <tr>\n",
              "      <th>2017-05-18</th>\n",
              "      <td>IDFC</td>\n",
              "      <td>EQ</td>\n",
              "      <td>63.35</td>\n",
              "      <td>62.40</td>\n",
              "      <td>62.60</td>\n",
              "      <td>61.20</td>\n",
              "      <td>61.35</td>\n",
              "      <td>61.50</td>\n",
              "      <td>61.85</td>\n",
              "      <td>6040654</td>\n",
              "      <td>3.736229e+08</td>\n",
              "      <td>14151</td>\n",
              "      <td>2475921</td>\n",
              "      <td>40.99</td>\n",
              "      <td>-0.029203</td>\n",
              "    </tr>\n",
              "    <tr>\n",
              "      <th>2017-05-19</th>\n",
              "      <td>IDFC</td>\n",
              "      <td>EQ</td>\n",
              "      <td>61.50</td>\n",
              "      <td>61.85</td>\n",
              "      <td>62.30</td>\n",
              "      <td>60.30</td>\n",
              "      <td>61.00</td>\n",
              "      <td>61.15</td>\n",
              "      <td>61.20</td>\n",
              "      <td>3697284</td>\n",
              "      <td>2.262721e+08</td>\n",
              "      <td>7537</td>\n",
              "      <td>1711047</td>\n",
              "      <td>46.28</td>\n",
              "      <td>-0.005691</td>\n",
              "    </tr>\n",
              "    <tr>\n",
              "      <th>2017-05-22</th>\n",
              "      <td>IDFC</td>\n",
              "      <td>EQ</td>\n",
              "      <td>61.15</td>\n",
              "      <td>61.30</td>\n",
              "      <td>61.70</td>\n",
              "      <td>60.00</td>\n",
              "      <td>60.10</td>\n",
              "      <td>60.20</td>\n",
              "      <td>60.62</td>\n",
              "      <td>3714457</td>\n",
              "      <td>2.251839e+08</td>\n",
              "      <td>9335</td>\n",
              "      <td>1491139</td>\n",
              "      <td>40.14</td>\n",
              "      <td>-0.015536</td>\n",
              "    </tr>\n",
              "  </tbody>\n",
              "</table>\n",
              "</div>"
            ],
            "text/plain": [
              "           Symbol Series  ...  % Dly Qt to Traded Qty  PCT_change\n",
              "Date                      ...                                    \n",
              "2017-05-16   IDFC     EQ  ...                   42.21    0.008634\n",
              "2017-05-17   IDFC     EQ  ...                   66.96   -0.014008\n",
              "2017-05-18   IDFC     EQ  ...                   40.99   -0.029203\n",
              "2017-05-19   IDFC     EQ  ...                   46.28   -0.005691\n",
              "2017-05-22   IDFC     EQ  ...                   40.14   -0.015536\n",
              "\n",
              "[5 rows x 15 columns]"
            ]
          },
          "metadata": {
            "tags": []
          },
          "execution_count": 139
        }
      ]
    },
    {
      "cell_type": "markdown",
      "metadata": {
        "id": "3amVkBW1jyUf",
        "colab_type": "text"
      },
      "source": [
        "**Define 4 new columns , whose values are:**\n",
        "*   % change between Open and Close price for the day\n",
        "*   % change between Low and High price for the day\n",
        "*   5 day rolling mean of the day to day % change in Close Price\n",
        "*   5 day rolling std of the day to day % change in Close Price"
      ]
    },
    {
      "cell_type": "code",
      "metadata": {
        "id": "8QU_ims6Qraa",
        "colab_type": "code",
        "colab": {}
      },
      "source": [
        "idfc_df['pc_Open_Close'] = ( idfc_df['Close Price'] - idfc_df['Open Price'] ) / idfc_df['Open Price']\n",
        "idfc_df['pc_High_Low']   = ( idfc_df['High Price']  - idfc_df['Low Price']  ) / idfc_df['Low Price']"
      ],
      "execution_count": 0,
      "outputs": []
    },
    {
      "cell_type": "code",
      "metadata": {
        "id": "p5-3QI9eR-Ma",
        "colab_type": "code",
        "colab": {}
      },
      "source": [
        "idfc_df['5_day_mean']    = idfc_df['PCT_change'].rolling(5).mean()\n",
        "idfc_df['5_day_std']     = idfc_df['PCT_change'].rolling(5).std()"
      ],
      "execution_count": 0,
      "outputs": []
    },
    {
      "cell_type": "code",
      "metadata": {
        "id": "usnPsgjwSTYY",
        "colab_type": "code",
        "colab": {}
      },
      "source": [
        "idfc_df.dropna(inplace=True)"
      ],
      "execution_count": 0,
      "outputs": []
    },
    {
      "cell_type": "code",
      "metadata": {
        "id": "J_zj7EH0TnHH",
        "colab_type": "code",
        "outputId": "be6ed389-abf9-435b-c9e1-6cbaf37fda0b",
        "colab": {
          "base_uri": "https://localhost:8080/",
          "height": 35
        }
      },
      "source": [
        "idfc_df.shape"
      ],
      "execution_count": 143,
      "outputs": [
        {
          "output_type": "execute_result",
          "data": {
            "text/plain": [
              "(489, 19)"
            ]
          },
          "metadata": {
            "tags": []
          },
          "execution_count": 143
        }
      ]
    },
    {
      "cell_type": "markdown",
      "metadata": {
        "id": "d7Za15I4YwMB",
        "colab_type": "text"
      },
      "source": [
        "**Create a new column 'Action' whose values are:**\n",
        "*   1 if next day's price(Close) is greater than present day's.\n",
        "*   (-1) if next day's price(Close) is less than present day's.\n",
        "*   i.e. Action [ i ] = 1 if Close[ i+1 ] > Close[ i ]\n",
        "*   i.e. Action [ i ] = (-1) if Close[ i+1 ] < Close[ i ]\n"
      ]
    },
    {
      "cell_type": "code",
      "metadata": {
        "id": "6-Xo-1spSbQJ",
        "colab_type": "code",
        "colab": {}
      },
      "source": [
        "idfc_df['Action'] = np.where( idfc_df['Close Price'].shift(-1) > idfc_df['Close Price'], 1, -1 )"
      ],
      "execution_count": 0,
      "outputs": []
    },
    {
      "cell_type": "code",
      "metadata": {
        "id": "Dr4N9SxrTX_V",
        "colab_type": "code",
        "outputId": "192e11b6-8400-4650-b341-7a4bbe32e139",
        "colab": {
          "base_uri": "https://localhost:8080/",
          "height": 341
        }
      },
      "source": [
        "idfc_df.tail()"
      ],
      "execution_count": 145,
      "outputs": [
        {
          "output_type": "execute_result",
          "data": {
            "text/html": [
              "<div>\n",
              "<style scoped>\n",
              "    .dataframe tbody tr th:only-of-type {\n",
              "        vertical-align: middle;\n",
              "    }\n",
              "\n",
              "    .dataframe tbody tr th {\n",
              "        vertical-align: top;\n",
              "    }\n",
              "\n",
              "    .dataframe thead th {\n",
              "        text-align: right;\n",
              "    }\n",
              "</style>\n",
              "<table border=\"1\" class=\"dataframe\">\n",
              "  <thead>\n",
              "    <tr style=\"text-align: right;\">\n",
              "      <th></th>\n",
              "      <th>Symbol</th>\n",
              "      <th>Series</th>\n",
              "      <th>Prev Close</th>\n",
              "      <th>Open Price</th>\n",
              "      <th>High Price</th>\n",
              "      <th>Low Price</th>\n",
              "      <th>Last Price</th>\n",
              "      <th>Close Price</th>\n",
              "      <th>Average Price</th>\n",
              "      <th>Total Traded Quantity</th>\n",
              "      <th>Turnover</th>\n",
              "      <th>No. of Trades</th>\n",
              "      <th>Deliverable Qty</th>\n",
              "      <th>% Dly Qt to Traded Qty</th>\n",
              "      <th>PCT_change</th>\n",
              "      <th>pc_Open_Close</th>\n",
              "      <th>pc_High_Low</th>\n",
              "      <th>5_day_mean</th>\n",
              "      <th>5_day_std</th>\n",
              "      <th>Action</th>\n",
              "    </tr>\n",
              "    <tr>\n",
              "      <th>Date</th>\n",
              "      <th></th>\n",
              "      <th></th>\n",
              "      <th></th>\n",
              "      <th></th>\n",
              "      <th></th>\n",
              "      <th></th>\n",
              "      <th></th>\n",
              "      <th></th>\n",
              "      <th></th>\n",
              "      <th></th>\n",
              "      <th></th>\n",
              "      <th></th>\n",
              "      <th></th>\n",
              "      <th></th>\n",
              "      <th></th>\n",
              "      <th></th>\n",
              "      <th></th>\n",
              "      <th></th>\n",
              "      <th></th>\n",
              "      <th></th>\n",
              "    </tr>\n",
              "  </thead>\n",
              "  <tbody>\n",
              "    <tr>\n",
              "      <th>2019-05-07</th>\n",
              "      <td>IDFC</td>\n",
              "      <td>EQ</td>\n",
              "      <td>37.75</td>\n",
              "      <td>38.0</td>\n",
              "      <td>38.60</td>\n",
              "      <td>36.90</td>\n",
              "      <td>37.15</td>\n",
              "      <td>37.10</td>\n",
              "      <td>37.72</td>\n",
              "      <td>3697713</td>\n",
              "      <td>1.394837e+08</td>\n",
              "      <td>6148</td>\n",
              "      <td>1609390</td>\n",
              "      <td>43.52</td>\n",
              "      <td>-0.017219</td>\n",
              "      <td>-0.023684</td>\n",
              "      <td>0.046070</td>\n",
              "      <td>-0.022559</td>\n",
              "      <td>0.013790</td>\n",
              "      <td>1</td>\n",
              "    </tr>\n",
              "    <tr>\n",
              "      <th>2019-05-08</th>\n",
              "      <td>IDFC</td>\n",
              "      <td>EQ</td>\n",
              "      <td>37.10</td>\n",
              "      <td>37.0</td>\n",
              "      <td>38.65</td>\n",
              "      <td>36.85</td>\n",
              "      <td>37.55</td>\n",
              "      <td>37.60</td>\n",
              "      <td>37.90</td>\n",
              "      <td>7364218</td>\n",
              "      <td>2.791014e+08</td>\n",
              "      <td>11206</td>\n",
              "      <td>2871606</td>\n",
              "      <td>38.99</td>\n",
              "      <td>0.013477</td>\n",
              "      <td>0.016216</td>\n",
              "      <td>0.048847</td>\n",
              "      <td>-0.012893</td>\n",
              "      <td>0.018979</td>\n",
              "      <td>-1</td>\n",
              "    </tr>\n",
              "    <tr>\n",
              "      <th>2019-05-09</th>\n",
              "      <td>IDFC</td>\n",
              "      <td>EQ</td>\n",
              "      <td>37.60</td>\n",
              "      <td>37.9</td>\n",
              "      <td>38.10</td>\n",
              "      <td>36.95</td>\n",
              "      <td>37.45</td>\n",
              "      <td>37.60</td>\n",
              "      <td>37.57</td>\n",
              "      <td>7376399</td>\n",
              "      <td>2.771038e+08</td>\n",
              "      <td>8362</td>\n",
              "      <td>3335703</td>\n",
              "      <td>45.22</td>\n",
              "      <td>0.000000</td>\n",
              "      <td>-0.007916</td>\n",
              "      <td>0.031123</td>\n",
              "      <td>-0.007662</td>\n",
              "      <td>0.017989</td>\n",
              "      <td>1</td>\n",
              "    </tr>\n",
              "    <tr>\n",
              "      <th>2019-05-10</th>\n",
              "      <td>IDFC</td>\n",
              "      <td>EQ</td>\n",
              "      <td>37.60</td>\n",
              "      <td>37.6</td>\n",
              "      <td>38.20</td>\n",
              "      <td>37.25</td>\n",
              "      <td>38.10</td>\n",
              "      <td>38.10</td>\n",
              "      <td>37.81</td>\n",
              "      <td>2626094</td>\n",
              "      <td>9.929210e+07</td>\n",
              "      <td>8188</td>\n",
              "      <td>563859</td>\n",
              "      <td>21.47</td>\n",
              "      <td>0.013298</td>\n",
              "      <td>0.013298</td>\n",
              "      <td>0.025503</td>\n",
              "      <td>-0.004747</td>\n",
              "      <td>0.020313</td>\n",
              "      <td>-1</td>\n",
              "    </tr>\n",
              "    <tr>\n",
              "      <th>2019-05-13</th>\n",
              "      <td>IDFC</td>\n",
              "      <td>EQ</td>\n",
              "      <td>38.10</td>\n",
              "      <td>37.8</td>\n",
              "      <td>37.80</td>\n",
              "      <td>34.35</td>\n",
              "      <td>34.90</td>\n",
              "      <td>34.75</td>\n",
              "      <td>35.64</td>\n",
              "      <td>16211123</td>\n",
              "      <td>5.777244e+08</td>\n",
              "      <td>21287</td>\n",
              "      <td>7776099</td>\n",
              "      <td>47.97</td>\n",
              "      <td>-0.087927</td>\n",
              "      <td>-0.080688</td>\n",
              "      <td>0.100437</td>\n",
              "      <td>-0.015674</td>\n",
              "      <td>0.042301</td>\n",
              "      <td>-1</td>\n",
              "    </tr>\n",
              "  </tbody>\n",
              "</table>\n",
              "</div>"
            ],
            "text/plain": [
              "           Symbol Series  Prev Close  ...  5_day_mean  5_day_std  Action\n",
              "Date                                  ...                               \n",
              "2019-05-07   IDFC     EQ       37.75  ...   -0.022559   0.013790       1\n",
              "2019-05-08   IDFC     EQ       37.10  ...   -0.012893   0.018979      -1\n",
              "2019-05-09   IDFC     EQ       37.60  ...   -0.007662   0.017989       1\n",
              "2019-05-10   IDFC     EQ       37.60  ...   -0.004747   0.020313      -1\n",
              "2019-05-13   IDFC     EQ       38.10  ...   -0.015674   0.042301      -1\n",
              "\n",
              "[5 rows x 20 columns]"
            ]
          },
          "metadata": {
            "tags": []
          },
          "execution_count": 145
        }
      ]
    },
    {
      "cell_type": "markdown",
      "metadata": {
        "id": "zT855dj6ZH_j",
        "colab_type": "text"
      },
      "source": [
        "**Construct a classification model with the 4 new inputs and 'Action' as target**"
      ]
    },
    {
      "cell_type": "code",
      "metadata": {
        "id": "-0at-e-fTspe",
        "colab_type": "code",
        "colab": {}
      },
      "source": [
        "X = idfc_df[['pc_Open_Close', 'pc_High_Low', '5_day_mean', '5_day_std']]\n",
        "y = idfc_df['Action']  \n",
        "X = StandardScaler().fit_transform(X)\n",
        "X_train, X_test, y_train, y_test = train_test_split(X, y, test_size=0.3, random_state=42)"
      ],
      "execution_count": 0,
      "outputs": []
    },
    {
      "cell_type": "markdown",
      "metadata": {
        "id": "TJVvkLVykK48",
        "colab_type": "text"
      },
      "source": [
        "As given in the question, we are taking RandomForest Classifier here"
      ]
    },
    {
      "cell_type": "code",
      "metadata": {
        "id": "0tpnAhwQVfig",
        "colab_type": "code",
        "outputId": "314480b4-2a5a-4e04-a2d6-a41683b51f11",
        "colab": {
          "base_uri": "https://localhost:8080/",
          "height": 159
        }
      },
      "source": [
        "random_forest = RandomForestClassifier(n_estimators=100, max_features=2)\n",
        "random_forest.fit(X_train,  y_train)"
      ],
      "execution_count": 147,
      "outputs": [
        {
          "output_type": "execute_result",
          "data": {
            "text/plain": [
              "RandomForestClassifier(bootstrap=True, ccp_alpha=0.0, class_weight=None,\n",
              "                       criterion='gini', max_depth=None, max_features=2,\n",
              "                       max_leaf_nodes=None, max_samples=None,\n",
              "                       min_impurity_decrease=0.0, min_impurity_split=None,\n",
              "                       min_samples_leaf=1, min_samples_split=2,\n",
              "                       min_weight_fraction_leaf=0.0, n_estimators=100,\n",
              "                       n_jobs=None, oob_score=False, random_state=None,\n",
              "                       verbose=0, warm_start=False)"
            ]
          },
          "metadata": {
            "tags": []
          },
          "execution_count": 147
        }
      ]
    },
    {
      "cell_type": "code",
      "metadata": {
        "id": "pRjLfpNoVr8X",
        "colab_type": "code",
        "outputId": "99ab10aa-7209-4ef8-9d14-9207a4347d5e",
        "colab": {
          "base_uri": "https://localhost:8080/",
          "height": 35
        }
      },
      "source": [
        "random_forest.score(X_test, y_test)"
      ],
      "execution_count": 148,
      "outputs": [
        {
          "output_type": "execute_result",
          "data": {
            "text/plain": [
              "0.564625850340136"
            ]
          },
          "metadata": {
            "tags": []
          },
          "execution_count": 148
        }
      ]
    },
    {
      "cell_type": "code",
      "metadata": {
        "id": "dR8-S5WaVwem",
        "colab_type": "code",
        "outputId": "1979564c-5e28-46b4-a92a-e568627f7316",
        "colab": {
          "base_uri": "https://localhost:8080/",
          "height": 35
        }
      },
      "source": [
        "accuracy_score( y_test, random_forest.predict(X_test), normalize=True ) "
      ],
      "execution_count": 149,
      "outputs": [
        {
          "output_type": "execute_result",
          "data": {
            "text/plain": [
              "0.564625850340136"
            ]
          },
          "metadata": {
            "tags": []
          },
          "execution_count": 149
        }
      ]
    },
    {
      "cell_type": "markdown",
      "metadata": {
        "id": "-aoUoMClkt4S",
        "colab_type": "text"
      },
      "source": [
        "Here Accuracy Score is 56.46%"
      ]
    },
    {
      "cell_type": "markdown",
      "metadata": {
        "id": "D-xUdtvJZODB",
        "colab_type": "text"
      },
      "source": [
        "**Plot the net cumulative returns (in %) if we were to follow this algorithmic model**"
      ]
    },
    {
      "cell_type": "code",
      "metadata": {
        "id": "fkssidUrWAS3",
        "colab_type": "code",
        "colab": {}
      },
      "source": [
        "cumulative_returns = ( 1 + (idfc_df['Close Price'].pct_change() * idfc_df['Action']) ).dropna().cumprod()"
      ],
      "execution_count": 0,
      "outputs": []
    },
    {
      "cell_type": "code",
      "metadata": {
        "id": "meXVBLiwWXGs",
        "colab_type": "code",
        "outputId": "4c8ddff4-eeed-4169-ee2b-fc8b1a268514",
        "colab": {
          "base_uri": "https://localhost:8080/",
          "height": 491
        }
      },
      "source": [
        "fig = plt.figure(figsize=(16,8))\n",
        "cumulative_returns.plot()"
      ],
      "execution_count": 151,
      "outputs": [
        {
          "output_type": "execute_result",
          "data": {
            "text/plain": [
              "<matplotlib.axes._subplots.AxesSubplot at 0x7f02203c57f0>"
            ]
          },
          "metadata": {
            "tags": []
          },
          "execution_count": 151
        },
        {
          "output_type": "display_data",
          "data": {
            "image/png": "[encoded data removed]",
            "text/plain": [
              "<Figure size 1152x576 with 1 Axes>"
            ]
          },
          "metadata": {
            "tags": [],
            "needs_background": "light"
          }
        }
      ]
    },
    {
      "cell_type": "code",
      "metadata": {
        "id": "YcB5JyACWhQE",
        "colab_type": "code",
        "colab": {}
      },
      "source": [
        ""
      ],
      "execution_count": 0,
      "outputs": []
    }
  ]
}