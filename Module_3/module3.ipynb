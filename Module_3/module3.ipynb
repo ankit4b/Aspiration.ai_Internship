{
  "nbformat": 4,
  "nbformat_minor": 0,
  "metadata": {
    "colab": {
      "name": "module3.ipynb",
      "provenance": [],
      "collapsed_sections": [],
      "toc_visible": true
    },
    "kernelspec": {
      "name": "python3",
      "display_name": "Python 3"
    }
  },
  "cells": [
    {
      "cell_type": "markdown",
      "metadata": {
        "id": "_HE4Mkwmqg0d",
        "colab_type": "text"
      },
      "source": [
        "# Module : 3"
      ]
    },
    {
      "cell_type": "markdown",
      "metadata": {
        "id": "uR8RpoBarhhv",
        "colab_type": "text"
      },
      "source": [
        "## **Fundamental analysis using Regression**"
      ]
    },
    {
      "cell_type": "code",
      "metadata": {
        "id": "bK49065Kqyt_",
        "colab_type": "code",
        "colab": {
          "base_uri": "https://localhost:8080/",
          "height": 72
        },
        "outputId": "0ee4af67-c322-4130-f6c4-a93f896ca3d5"
      },
      "source": [
        "import pandas as pd\n",
        "import matplotlib.pyplot as plt\n",
        "import seaborn as sns\n",
        "import numpy as np"
      ],
      "execution_count": 1,
      "outputs": [
        {
          "output_type": "stream",
          "text": [
            "/usr/local/lib/python3.6/dist-packages/statsmodels/tools/_testing.py:19: FutureWarning: pandas.util.testing is deprecated. Use the functions in the public API at pandas.testing instead.\n",
            "  import pandas.util.testing as tm\n"
          ],
          "name": "stderr"
        }
      ]
    },
    {
      "cell_type": "markdown",
      "metadata": {
        "id": "-ISZT-hl7U4A",
        "colab_type": "text"
      },
      "source": [
        "## 3.1"
      ]
    },
    {
      "cell_type": "markdown",
      "metadata": {
        "id": "WgRuGWbI7YNa",
        "colab_type": "text"
      },
      "source": [
        "**Import the file 'gold.csv', which contains the data of the last 2 years price action of Indian (MCX) gold standard. Explore the dataframe. You'd see 2 unique columns - 'Pred' and 'new'.**"
      ]
    },
    {
      "cell_type": "code",
      "metadata": {
        "id": "T_75oJW_TpwM",
        "colab_type": "code",
        "colab": {}
      },
      "source": [
        "gold_df = pd.read_csv(\"/content/drive/My Drive/DataScience/Aspiration Internship/GOLD.csv\")"
      ],
      "execution_count": 0,
      "outputs": []
    },
    {
      "cell_type": "code",
      "metadata": {
        "id": "6zUDZ4WPUL2f",
        "colab_type": "code",
        "outputId": "ea409d6b-2692-49d1-a045-6a322dd85b55",
        "colab": {
          "base_uri": "https://localhost:8080/",
          "height": 194
        }
      },
      "source": [
        "gold_df.head()"
      ],
      "execution_count": 3,
      "outputs": [
        {
          "output_type": "execute_result",
          "data": {
            "text/html": [
              "<div>\n",
              "<style scoped>\n",
              "    .dataframe tbody tr th:only-of-type {\n",
              "        vertical-align: middle;\n",
              "    }\n",
              "\n",
              "    .dataframe tbody tr th {\n",
              "        vertical-align: top;\n",
              "    }\n",
              "\n",
              "    .dataframe thead th {\n",
              "        text-align: right;\n",
              "    }\n",
              "</style>\n",
              "<table border=\"1\" class=\"dataframe\">\n",
              "  <thead>\n",
              "    <tr style=\"text-align: right;\">\n",
              "      <th></th>\n",
              "      <th>Date</th>\n",
              "      <th>Price</th>\n",
              "      <th>Open</th>\n",
              "      <th>High</th>\n",
              "      <th>Low</th>\n",
              "      <th>Vol.</th>\n",
              "      <th>Change %</th>\n",
              "      <th>Pred</th>\n",
              "      <th>new</th>\n",
              "    </tr>\n",
              "  </thead>\n",
              "  <tbody>\n",
              "    <tr>\n",
              "      <th>0</th>\n",
              "      <td>May 04, 2017</td>\n",
              "      <td>28060</td>\n",
              "      <td>28400</td>\n",
              "      <td>28482</td>\n",
              "      <td>28025</td>\n",
              "      <td>0.08K</td>\n",
              "      <td>-1.79%</td>\n",
              "      <td>738.0</td>\n",
              "      <td>117.570740</td>\n",
              "    </tr>\n",
              "    <tr>\n",
              "      <th>1</th>\n",
              "      <td>May 05, 2017</td>\n",
              "      <td>28184</td>\n",
              "      <td>28136</td>\n",
              "      <td>28382</td>\n",
              "      <td>28135</td>\n",
              "      <td>0.06K</td>\n",
              "      <td>0.44%</td>\n",
              "      <td>-146.0</td>\n",
              "      <td>295.430176</td>\n",
              "    </tr>\n",
              "    <tr>\n",
              "      <th>2</th>\n",
              "      <td>May 08, 2017</td>\n",
              "      <td>28119</td>\n",
              "      <td>28145</td>\n",
              "      <td>28255</td>\n",
              "      <td>28097</td>\n",
              "      <td>7.85K</td>\n",
              "      <td>-0.23%</td>\n",
              "      <td>30.0</td>\n",
              "      <td>132.123714</td>\n",
              "    </tr>\n",
              "    <tr>\n",
              "      <th>3</th>\n",
              "      <td>May 09, 2017</td>\n",
              "      <td>27981</td>\n",
              "      <td>28125</td>\n",
              "      <td>28192</td>\n",
              "      <td>27947</td>\n",
              "      <td>10.10K</td>\n",
              "      <td>-0.49%</td>\n",
              "      <td>357.0</td>\n",
              "      <td>101.298064</td>\n",
              "    </tr>\n",
              "    <tr>\n",
              "      <th>4</th>\n",
              "      <td>May 10, 2017</td>\n",
              "      <td>28007</td>\n",
              "      <td>28060</td>\n",
              "      <td>28146</td>\n",
              "      <td>27981</td>\n",
              "      <td>9.28K</td>\n",
              "      <td>0.09%</td>\n",
              "      <td>124.0</td>\n",
              "      <td>112.153318</td>\n",
              "    </tr>\n",
              "  </tbody>\n",
              "</table>\n",
              "</div>"
            ],
            "text/plain": [
              "           Date  Price   Open   High    Low    Vol. Change %   Pred         new\n",
              "0  May 04, 2017  28060  28400  28482  28025   0.08K   -1.79%  738.0  117.570740\n",
              "1  May 05, 2017  28184  28136  28382  28135   0.06K    0.44% -146.0  295.430176\n",
              "2  May 08, 2017  28119  28145  28255  28097   7.85K   -0.23%   30.0  132.123714\n",
              "3  May 09, 2017  27981  28125  28192  27947  10.10K   -0.49%  357.0  101.298064\n",
              "4  May 10, 2017  28007  28060  28146  27981   9.28K    0.09%  124.0  112.153318"
            ]
          },
          "metadata": {
            "tags": []
          },
          "execution_count": 3
        }
      ]
    },
    {
      "cell_type": "code",
      "metadata": {
        "id": "gX2db0ZkVc-p",
        "colab_type": "code",
        "outputId": "28034039-54b4-413f-de70-55de9c1ee0a5",
        "colab": {
          "base_uri": "https://localhost:8080/",
          "height": 194
        }
      },
      "source": [
        "gold_df.tail()"
      ],
      "execution_count": 4,
      "outputs": [
        {
          "output_type": "execute_result",
          "data": {
            "text/html": [
              "<div>\n",
              "<style scoped>\n",
              "    .dataframe tbody tr th:only-of-type {\n",
              "        vertical-align: middle;\n",
              "    }\n",
              "\n",
              "    .dataframe tbody tr th {\n",
              "        vertical-align: top;\n",
              "    }\n",
              "\n",
              "    .dataframe thead th {\n",
              "        text-align: right;\n",
              "    }\n",
              "</style>\n",
              "<table border=\"1\" class=\"dataframe\">\n",
              "  <thead>\n",
              "    <tr style=\"text-align: right;\">\n",
              "      <th></th>\n",
              "      <th>Date</th>\n",
              "      <th>Price</th>\n",
              "      <th>Open</th>\n",
              "      <th>High</th>\n",
              "      <th>Low</th>\n",
              "      <th>Vol.</th>\n",
              "      <th>Change %</th>\n",
              "      <th>Pred</th>\n",
              "      <th>new</th>\n",
              "    </tr>\n",
              "  </thead>\n",
              "  <tbody>\n",
              "    <tr>\n",
              "      <th>507</th>\n",
              "      <td>Apr 26, 2019</td>\n",
              "      <td>31868</td>\n",
              "      <td>31851</td>\n",
              "      <td>31934</td>\n",
              "      <td>31705</td>\n",
              "      <td>9.67K</td>\n",
              "      <td>0.08%</td>\n",
              "      <td>NaN</td>\n",
              "      <td>247.177322</td>\n",
              "    </tr>\n",
              "    <tr>\n",
              "      <th>508</th>\n",
              "      <td>Apr 30, 2019</td>\n",
              "      <td>31625</td>\n",
              "      <td>31800</td>\n",
              "      <td>31824</td>\n",
              "      <td>31597</td>\n",
              "      <td>6.44K</td>\n",
              "      <td>-0.76%</td>\n",
              "      <td>NaN</td>\n",
              "      <td>52.201158</td>\n",
              "    </tr>\n",
              "    <tr>\n",
              "      <th>509</th>\n",
              "      <td>May 01, 2019</td>\n",
              "      <td>31563</td>\n",
              "      <td>31604</td>\n",
              "      <td>31657</td>\n",
              "      <td>31503</td>\n",
              "      <td>1.55K</td>\n",
              "      <td>-0.20%</td>\n",
              "      <td>NaN</td>\n",
              "      <td>113.293305</td>\n",
              "    </tr>\n",
              "    <tr>\n",
              "      <th>510</th>\n",
              "      <td>May 02, 2019</td>\n",
              "      <td>31203</td>\n",
              "      <td>31420</td>\n",
              "      <td>31425</td>\n",
              "      <td>31160</td>\n",
              "      <td>0.48K</td>\n",
              "      <td>-1.14%</td>\n",
              "      <td>NaN</td>\n",
              "      <td>48.365693</td>\n",
              "    </tr>\n",
              "    <tr>\n",
              "      <th>511</th>\n",
              "      <td>May 03, 2019</td>\n",
              "      <td>31341</td>\n",
              "      <td>31250</td>\n",
              "      <td>31500</td>\n",
              "      <td>31163</td>\n",
              "      <td>0.08K</td>\n",
              "      <td>0.44%</td>\n",
              "      <td>NaN</td>\n",
              "      <td>429.924911</td>\n",
              "    </tr>\n",
              "  </tbody>\n",
              "</table>\n",
              "</div>"
            ],
            "text/plain": [
              "             Date  Price   Open   High    Low   Vol. Change %  Pred         new\n",
              "507  Apr 26, 2019  31868  31851  31934  31705  9.67K    0.08%   NaN  247.177322\n",
              "508  Apr 30, 2019  31625  31800  31824  31597  6.44K   -0.76%   NaN   52.201158\n",
              "509  May 01, 2019  31563  31604  31657  31503  1.55K   -0.20%   NaN  113.293305\n",
              "510  May 02, 2019  31203  31420  31425  31160  0.48K   -1.14%   NaN   48.365693\n",
              "511  May 03, 2019  31341  31250  31500  31163  0.08K    0.44%   NaN  429.924911"
            ]
          },
          "metadata": {
            "tags": []
          },
          "execution_count": 4
        }
      ]
    },
    {
      "cell_type": "code",
      "metadata": {
        "id": "fpcarJHcUOOp",
        "colab_type": "code",
        "outputId": "bb2ac8bb-c586-4130-8bf5-3937863c5e6d",
        "colab": {
          "base_uri": "https://localhost:8080/",
          "height": 301
        }
      },
      "source": [
        "gold_df.info()"
      ],
      "execution_count": 5,
      "outputs": [
        {
          "output_type": "stream",
          "text": [
            "<class 'pandas.core.frame.DataFrame'>\n",
            "RangeIndex: 512 entries, 0 to 511\n",
            "Data columns (total 9 columns):\n",
            " #   Column    Non-Null Count  Dtype  \n",
            "---  ------    --------------  -----  \n",
            " 0   Date      512 non-null    object \n",
            " 1   Price     512 non-null    int64  \n",
            " 2   Open      512 non-null    int64  \n",
            " 3   High      512 non-null    int64  \n",
            " 4   Low       512 non-null    int64  \n",
            " 5   Vol.      512 non-null    object \n",
            " 6   Change %  512 non-null    object \n",
            " 7   Pred      411 non-null    float64\n",
            " 8   new       512 non-null    float64\n",
            "dtypes: float64(2), int64(4), object(3)\n",
            "memory usage: 36.1+ KB\n"
          ],
          "name": "stdout"
        }
      ]
    },
    {
      "cell_type": "code",
      "metadata": {
        "id": "Hnt1XNmussIz",
        "colab_type": "code",
        "colab": {}
      },
      "source": [
        "gold_df.set_index('Date', inplace=True)"
      ],
      "execution_count": 0,
      "outputs": []
    },
    {
      "cell_type": "markdown",
      "metadata": {
        "id": "qMAs57Yw8AgO",
        "colab_type": "text"
      },
      "source": [
        "**Using linear regression, find the coefficients of the inputs and using the same trained model, complete the entire column.**"
      ]
    },
    {
      "cell_type": "code",
      "metadata": {
        "id": "Zj0Z0-UtWxOk",
        "colab_type": "code",
        "colab": {}
      },
      "source": [
        "df_train = gold_df[-np.isnan(gold_df['Pred'])]\n",
        "df_test = gold_df[np.isnan(gold_df['Pred'])]"
      ],
      "execution_count": 0,
      "outputs": []
    },
    {
      "cell_type": "code",
      "metadata": {
        "id": "OvhUhLrCdBkJ",
        "colab_type": "code",
        "outputId": "ccf0cdc0-1a6e-4fb3-b3a1-af8ba70c8feb",
        "colab": {
          "base_uri": "https://localhost:8080/",
          "height": 223
        }
      },
      "source": [
        "df_train.head()"
      ],
      "execution_count": 8,
      "outputs": [
        {
          "output_type": "execute_result",
          "data": {
            "text/html": [
              "<div>\n",
              "<style scoped>\n",
              "    .dataframe tbody tr th:only-of-type {\n",
              "        vertical-align: middle;\n",
              "    }\n",
              "\n",
              "    .dataframe tbody tr th {\n",
              "        vertical-align: top;\n",
              "    }\n",
              "\n",
              "    .dataframe thead th {\n",
              "        text-align: right;\n",
              "    }\n",
              "</style>\n",
              "<table border=\"1\" class=\"dataframe\">\n",
              "  <thead>\n",
              "    <tr style=\"text-align: right;\">\n",
              "      <th></th>\n",
              "      <th>Price</th>\n",
              "      <th>Open</th>\n",
              "      <th>High</th>\n",
              "      <th>Low</th>\n",
              "      <th>Vol.</th>\n",
              "      <th>Change %</th>\n",
              "      <th>Pred</th>\n",
              "      <th>new</th>\n",
              "    </tr>\n",
              "    <tr>\n",
              "      <th>Date</th>\n",
              "      <th></th>\n",
              "      <th></th>\n",
              "      <th></th>\n",
              "      <th></th>\n",
              "      <th></th>\n",
              "      <th></th>\n",
              "      <th></th>\n",
              "      <th></th>\n",
              "    </tr>\n",
              "  </thead>\n",
              "  <tbody>\n",
              "    <tr>\n",
              "      <th>May 04, 2017</th>\n",
              "      <td>28060</td>\n",
              "      <td>28400</td>\n",
              "      <td>28482</td>\n",
              "      <td>28025</td>\n",
              "      <td>0.08K</td>\n",
              "      <td>-1.79%</td>\n",
              "      <td>738.0</td>\n",
              "      <td>117.570740</td>\n",
              "    </tr>\n",
              "    <tr>\n",
              "      <th>May 05, 2017</th>\n",
              "      <td>28184</td>\n",
              "      <td>28136</td>\n",
              "      <td>28382</td>\n",
              "      <td>28135</td>\n",
              "      <td>0.06K</td>\n",
              "      <td>0.44%</td>\n",
              "      <td>-146.0</td>\n",
              "      <td>295.430176</td>\n",
              "    </tr>\n",
              "    <tr>\n",
              "      <th>May 08, 2017</th>\n",
              "      <td>28119</td>\n",
              "      <td>28145</td>\n",
              "      <td>28255</td>\n",
              "      <td>28097</td>\n",
              "      <td>7.85K</td>\n",
              "      <td>-0.23%</td>\n",
              "      <td>30.0</td>\n",
              "      <td>132.123714</td>\n",
              "    </tr>\n",
              "    <tr>\n",
              "      <th>May 09, 2017</th>\n",
              "      <td>27981</td>\n",
              "      <td>28125</td>\n",
              "      <td>28192</td>\n",
              "      <td>27947</td>\n",
              "      <td>10.10K</td>\n",
              "      <td>-0.49%</td>\n",
              "      <td>357.0</td>\n",
              "      <td>101.298064</td>\n",
              "    </tr>\n",
              "    <tr>\n",
              "      <th>May 10, 2017</th>\n",
              "      <td>28007</td>\n",
              "      <td>28060</td>\n",
              "      <td>28146</td>\n",
              "      <td>27981</td>\n",
              "      <td>9.28K</td>\n",
              "      <td>0.09%</td>\n",
              "      <td>124.0</td>\n",
              "      <td>112.153318</td>\n",
              "    </tr>\n",
              "  </tbody>\n",
              "</table>\n",
              "</div>"
            ],
            "text/plain": [
              "              Price   Open   High    Low    Vol. Change %   Pred         new\n",
              "Date                                                                        \n",
              "May 04, 2017  28060  28400  28482  28025   0.08K   -1.79%  738.0  117.570740\n",
              "May 05, 2017  28184  28136  28382  28135   0.06K    0.44% -146.0  295.430176\n",
              "May 08, 2017  28119  28145  28255  28097   7.85K   -0.23%   30.0  132.123714\n",
              "May 09, 2017  27981  28125  28192  27947  10.10K   -0.49%  357.0  101.298064\n",
              "May 10, 2017  28007  28060  28146  27981   9.28K    0.09%  124.0  112.153318"
            ]
          },
          "metadata": {
            "tags": []
          },
          "execution_count": 8
        }
      ]
    },
    {
      "cell_type": "code",
      "metadata": {
        "id": "N87KBb_ddJl9",
        "colab_type": "code",
        "outputId": "d80d9d09-c4d5-408d-e86d-3919ad598f42",
        "colab": {
          "base_uri": "https://localhost:8080/",
          "height": 35
        }
      },
      "source": [
        "df_train.shape"
      ],
      "execution_count": 9,
      "outputs": [
        {
          "output_type": "execute_result",
          "data": {
            "text/plain": [
              "(411, 8)"
            ]
          },
          "metadata": {
            "tags": []
          },
          "execution_count": 9
        }
      ]
    },
    {
      "cell_type": "code",
      "metadata": {
        "id": "-LDkSuEDdNgE",
        "colab_type": "code",
        "outputId": "3ece4762-1630-43a1-ae62-845e7bd0e436",
        "colab": {
          "base_uri": "https://localhost:8080/",
          "height": 223
        }
      },
      "source": [
        "df_test.head()"
      ],
      "execution_count": 10,
      "outputs": [
        {
          "output_type": "execute_result",
          "data": {
            "text/html": [
              "<div>\n",
              "<style scoped>\n",
              "    .dataframe tbody tr th:only-of-type {\n",
              "        vertical-align: middle;\n",
              "    }\n",
              "\n",
              "    .dataframe tbody tr th {\n",
              "        vertical-align: top;\n",
              "    }\n",
              "\n",
              "    .dataframe thead th {\n",
              "        text-align: right;\n",
              "    }\n",
              "</style>\n",
              "<table border=\"1\" class=\"dataframe\">\n",
              "  <thead>\n",
              "    <tr style=\"text-align: right;\">\n",
              "      <th></th>\n",
              "      <th>Price</th>\n",
              "      <th>Open</th>\n",
              "      <th>High</th>\n",
              "      <th>Low</th>\n",
              "      <th>Vol.</th>\n",
              "      <th>Change %</th>\n",
              "      <th>Pred</th>\n",
              "      <th>new</th>\n",
              "    </tr>\n",
              "    <tr>\n",
              "      <th>Date</th>\n",
              "      <th></th>\n",
              "      <th></th>\n",
              "      <th></th>\n",
              "      <th></th>\n",
              "      <th></th>\n",
              "      <th></th>\n",
              "      <th></th>\n",
              "      <th></th>\n",
              "    </tr>\n",
              "  </thead>\n",
              "  <tbody>\n",
              "    <tr>\n",
              "      <th>Dec 11, 2018</th>\n",
              "      <td>31812</td>\n",
              "      <td>31850</td>\n",
              "      <td>31850</td>\n",
              "      <td>31618</td>\n",
              "      <td>10.53K</td>\n",
              "      <td>-0.26%</td>\n",
              "      <td>NaN</td>\n",
              "      <td>195.423493</td>\n",
              "    </tr>\n",
              "    <tr>\n",
              "      <th>Dec 12, 2018</th>\n",
              "      <td>31626</td>\n",
              "      <td>31749</td>\n",
              "      <td>31749</td>\n",
              "      <td>31582</td>\n",
              "      <td>7.57K</td>\n",
              "      <td>-0.58%</td>\n",
              "      <td>NaN</td>\n",
              "      <td>44.232664</td>\n",
              "    </tr>\n",
              "    <tr>\n",
              "      <th>Dec 13, 2018</th>\n",
              "      <td>31414</td>\n",
              "      <td>31550</td>\n",
              "      <td>31600</td>\n",
              "      <td>31337</td>\n",
              "      <td>8.43K</td>\n",
              "      <td>-0.67%</td>\n",
              "      <td>NaN</td>\n",
              "      <td>127.646233</td>\n",
              "    </tr>\n",
              "    <tr>\n",
              "      <th>Dec 14, 2018</th>\n",
              "      <td>31437</td>\n",
              "      <td>31440</td>\n",
              "      <td>31514</td>\n",
              "      <td>31384</td>\n",
              "      <td>6.75K</td>\n",
              "      <td>0.07%</td>\n",
              "      <td>NaN</td>\n",
              "      <td>127.219539</td>\n",
              "    </tr>\n",
              "    <tr>\n",
              "      <th>Dec 17, 2018</th>\n",
              "      <td>31501</td>\n",
              "      <td>31369</td>\n",
              "      <td>31530</td>\n",
              "      <td>31291</td>\n",
              "      <td>5.97K</td>\n",
              "      <td>0.20%</td>\n",
              "      <td>NaN</td>\n",
              "      <td>372.603976</td>\n",
              "    </tr>\n",
              "  </tbody>\n",
              "</table>\n",
              "</div>"
            ],
            "text/plain": [
              "              Price   Open   High    Low    Vol. Change %  Pred         new\n",
              "Date                                                                       \n",
              "Dec 11, 2018  31812  31850  31850  31618  10.53K   -0.26%   NaN  195.423493\n",
              "Dec 12, 2018  31626  31749  31749  31582   7.57K   -0.58%   NaN   44.232664\n",
              "Dec 13, 2018  31414  31550  31600  31337   8.43K   -0.67%   NaN  127.646233\n",
              "Dec 14, 2018  31437  31440  31514  31384   6.75K    0.07%   NaN  127.219539\n",
              "Dec 17, 2018  31501  31369  31530  31291   5.97K    0.20%   NaN  372.603976"
            ]
          },
          "metadata": {
            "tags": []
          },
          "execution_count": 10
        }
      ]
    },
    {
      "cell_type": "code",
      "metadata": {
        "id": "kzH8VaxtdSGY",
        "colab_type": "code",
        "outputId": "6e1ccf6d-b852-4c7e-d23a-0fe8ad61d5b8",
        "colab": {
          "base_uri": "https://localhost:8080/",
          "height": 35
        }
      },
      "source": [
        "df_test.shape"
      ],
      "execution_count": 11,
      "outputs": [
        {
          "output_type": "execute_result",
          "data": {
            "text/plain": [
              "(101, 8)"
            ]
          },
          "metadata": {
            "tags": []
          },
          "execution_count": 11
        }
      ]
    },
    {
      "cell_type": "markdown",
      "metadata": {
        "id": "TQb-EAd38XuL",
        "colab_type": "text"
      },
      "source": [
        "**Linear Regession on \"Pred\"**"
      ]
    },
    {
      "cell_type": "code",
      "metadata": {
        "id": "26vVCiGPdU-q",
        "colab_type": "code",
        "colab": {}
      },
      "source": [
        "from sklearn.linear_model import LinearRegression"
      ],
      "execution_count": 0,
      "outputs": []
    },
    {
      "cell_type": "code",
      "metadata": {
        "id": "Gu3420Xnrp6q",
        "colab_type": "code",
        "colab": {}
      },
      "source": [
        "X_fields = ['Price','Open','High','Low']"
      ],
      "execution_count": 0,
      "outputs": []
    },
    {
      "cell_type": "code",
      "metadata": {
        "id": "RYP1VU-XmlZa",
        "colab_type": "code",
        "outputId": "2fda8180-c837-440d-f0e6-e47b4cd531e1",
        "colab": {
          "base_uri": "https://localhost:8080/",
          "height": 35
        }
      },
      "source": [
        "lr = LinearRegression()\n",
        "lr.fit(df_train[['Price', 'Open', 'High', 'Low']], df_train['Pred'])\n",
        "print(lr.score(df_train[['Price', 'Open', 'High', 'Low']], df_train['Pred']))"
      ],
      "execution_count": 14,
      "outputs": [
        {
          "output_type": "stream",
          "text": [
            "1.0\n"
          ],
          "name": "stdout"
        }
      ]
    },
    {
      "cell_type": "code",
      "metadata": {
        "id": "3GGm5SIbrAfM",
        "colab_type": "code",
        "outputId": "29db93ec-7118-43f1-a617-6cb5e2a76016",
        "colab": {
          "base_uri": "https://localhost:8080/",
          "height": 35
        }
      },
      "source": [
        "lr.coef_"
      ],
      "execution_count": 15,
      "outputs": [
        {
          "output_type": "execute_result",
          "data": {
            "text/plain": [
              "array([ 2.,  3., -1., -4.])"
            ]
          },
          "metadata": {
            "tags": []
          },
          "execution_count": 15
        }
      ]
    },
    {
      "cell_type": "code",
      "metadata": {
        "id": "7gPSdgs-r4SW",
        "colab_type": "code",
        "outputId": "59ec9906-d8a4-4728-df5b-9cdbd1323959",
        "colab": {
          "base_uri": "https://localhost:8080/",
          "height": 35
        }
      },
      "source": [
        "lr.intercept_"
      ],
      "execution_count": 16,
      "outputs": [
        {
          "output_type": "execute_result",
          "data": {
            "text/plain": [
              "-2.6716406864579767e-12"
            ]
          },
          "metadata": {
            "tags": []
          },
          "execution_count": 16
        }
      ]
    },
    {
      "cell_type": "code",
      "metadata": {
        "id": "-82nyw5A8rYN",
        "colab_type": "code",
        "outputId": "acbc199c-ebb7-4707-87b6-4e356635a25c",
        "colab": {
          "base_uri": "https://localhost:8080/",
          "height": 124
        }
      },
      "source": [
        "df_test['Pred'] = lr.predict(df_test[['Price', 'Open', 'High', 'Low']])"
      ],
      "execution_count": 17,
      "outputs": [
        {
          "output_type": "stream",
          "text": [
            "/usr/local/lib/python3.6/dist-packages/ipykernel_launcher.py:1: SettingWithCopyWarning: \n",
            "A value is trying to be set on a copy of a slice from a DataFrame.\n",
            "Try using .loc[row_indexer,col_indexer] = value instead\n",
            "\n",
            "See the caveats in the documentation: https://pandas.pydata.org/pandas-docs/stable/user_guide/indexing.html#returning-a-view-versus-a-copy\n",
            "  \"\"\"Entry point for launching an IPython kernel.\n"
          ],
          "name": "stderr"
        }
      ]
    },
    {
      "cell_type": "code",
      "metadata": {
        "id": "FV7FLndj91Ou",
        "colab_type": "code",
        "outputId": "399dfb84-7dd7-43ed-850a-027f2d87009c",
        "colab": {
          "base_uri": "https://localhost:8080/",
          "height": 284
        }
      },
      "source": [
        "df_test.info()"
      ],
      "execution_count": 18,
      "outputs": [
        {
          "output_type": "stream",
          "text": [
            "<class 'pandas.core.frame.DataFrame'>\n",
            "Index: 101 entries, Dec 11, 2018 to May 03, 2019\n",
            "Data columns (total 8 columns):\n",
            " #   Column    Non-Null Count  Dtype  \n",
            "---  ------    --------------  -----  \n",
            " 0   Price     101 non-null    int64  \n",
            " 1   Open      101 non-null    int64  \n",
            " 2   High      101 non-null    int64  \n",
            " 3   Low       101 non-null    int64  \n",
            " 4   Vol.      101 non-null    object \n",
            " 5   Change %  101 non-null    object \n",
            " 6   Pred      101 non-null    float64\n",
            " 7   new       101 non-null    float64\n",
            "dtypes: float64(2), int64(4), object(2)\n",
            "memory usage: 7.1+ KB\n"
          ],
          "name": "stdout"
        }
      ]
    },
    {
      "cell_type": "markdown",
      "metadata": {
        "id": "4P4U5oFk_V73",
        "colab_type": "text"
      },
      "source": [
        "**Plotting a histogram & distplot helps in recognizing the discrepencies in prediction**"
      ]
    },
    {
      "cell_type": "code",
      "metadata": {
        "id": "AMd-0cAh-Iad",
        "colab_type": "code",
        "outputId": "1690c2b6-e223-4596-e23a-63cd92e4fa37",
        "colab": {
          "base_uri": "https://localhost:8080/",
          "height": 408
        }
      },
      "source": [
        "fig = plt.figure(figsize=[15, 6])\n",
        "ax1 = fig.add_subplot(1, 1, 1)\n",
        "ax2 = ax1.twinx()\n",
        "\n",
        "ax2.plot( df_test.Price, label='Price' ); \n",
        "ax2.plot( df_test.Open,  label='Open' );  \n",
        "ax2.plot( df_test.High,  label='High' );  \n",
        "ax2.plot( df_test.Low,   label='Low' );   \n",
        "ax1.plot( df_test.Pred,  label='Pred', linestyle=':');  \n",
        "\n",
        "plt.title('Gold')\n",
        "plt.ylabel('Price')\n",
        "ax1.legend(loc='upper left')\n",
        "ax2.legend(loc='upper right')"
      ],
      "execution_count": 19,
      "outputs": [
        {
          "output_type": "execute_result",
          "data": {
            "text/plain": [
              "<matplotlib.legend.Legend at 0x7f039dcf4278>"
            ]
          },
          "metadata": {
            "tags": []
          },
          "execution_count": 19
        },
        {
          "output_type": "display_data",
          "data": {
            "image/png": "[encoded data removed]",
            "text/plain": [
              "<Figure size 1080x432 with 2 Axes>"
            ]
          },
          "metadata": {
            "tags": [],
            "needs_background": "light"
          }
        }
      ]
    },
    {
      "cell_type": "code",
      "metadata": {
        "id": "4QfpdG59_Ak9",
        "colab_type": "code",
        "outputId": "1026adc0-6247-46de-fcfb-1eb9473e5fd4",
        "colab": {
          "base_uri": "https://localhost:8080/",
          "height": 445
        }
      },
      "source": [
        "fig = plt.figure(figsize=[15, 6])\n",
        "ax1 = fig.add_subplot(1, 1, 1)\n",
        "ax2 = fig.add_subplot(1, 2, 1)\n",
        "\n",
        "ax1.hist( df_test.Price, alpha=0.5 )\n",
        "ax1.hist( df_test.Open, alpha=0.5 )\n",
        "ax1.hist( df_test.High, alpha=0.5 )\n",
        "ax1.hist( df_test.Low, alpha=0.5 )\n",
        "ax2.hist( df_test.Pred )"
      ],
      "execution_count": 20,
      "outputs": [
        {
          "output_type": "execute_result",
          "data": {
            "text/plain": [
              "(array([20., 47., 24.,  6.,  0.,  0.,  0.,  1.,  0.,  3.]),\n",
              " array([-139. ,  177.3,  493.6,  809.9, 1126.2, 1442.5, 1758.8, 2075.1,\n",
              "        2391.4, 2707.7, 3024. ]),\n",
              " <a list of 10 Patch objects>)"
            ]
          },
          "metadata": {
            "tags": []
          },
          "execution_count": 20
        },
        {
          "output_type": "display_data",
          "data": {
            "image/png": "[encoded data removed]",
            "text/plain": [
              "<Figure size 1080x432 with 2 Axes>"
            ]
          },
          "metadata": {
            "tags": [],
            "needs_background": "light"
          }
        }
      ]
    },
    {
      "cell_type": "code",
      "metadata": {
        "id": "XnfxNKoZZu--",
        "colab_type": "code",
        "outputId": "4c9c9bf3-a1e6-45aa-dc18-6f01111843ab",
        "colab": {
          "base_uri": "https://localhost:8080/",
          "height": 285
        }
      },
      "source": [
        "sns.set()\n",
        "ax = sns.distplot(df_test.Pred)\n",
        "plt.show()"
      ],
      "execution_count": 21,
      "outputs": [
        {
          "output_type": "display_data",
          "data": {
            "image/png": "[encoded data removed]",
            "text/plain": [
              "<Figure size 432x288 with 1 Axes>"
            ]
          },
          "metadata": {
            "tags": []
          }
        }
      ]
    },
    {
      "cell_type": "markdown",
      "metadata": {
        "id": "-SV9YRnuJOKJ",
        "colab_type": "text"
      },
      "source": [
        "**complete the entire column \"Pred\" of Gold_df.**"
      ]
    },
    {
      "cell_type": "code",
      "metadata": {
        "id": "IFQY8K4WJYLD",
        "colab_type": "code",
        "colab": {}
      },
      "source": [
        "gold_df['Pred'] = lr.predict(gold_df[['Price', 'Open', 'High', 'Low']])"
      ],
      "execution_count": 0,
      "outputs": []
    },
    {
      "cell_type": "code",
      "metadata": {
        "id": "u4bMU4A4JfP2",
        "colab_type": "code",
        "outputId": "6c1b136b-6df1-4d5d-cc28-3edcdb8cd408",
        "colab": {
          "base_uri": "https://localhost:8080/",
          "height": 284
        }
      },
      "source": [
        "gold_df.info()"
      ],
      "execution_count": 23,
      "outputs": [
        {
          "output_type": "stream",
          "text": [
            "<class 'pandas.core.frame.DataFrame'>\n",
            "Index: 512 entries, May 04, 2017 to May 03, 2019\n",
            "Data columns (total 8 columns):\n",
            " #   Column    Non-Null Count  Dtype  \n",
            "---  ------    --------------  -----  \n",
            " 0   Price     512 non-null    int64  \n",
            " 1   Open      512 non-null    int64  \n",
            " 2   High      512 non-null    int64  \n",
            " 3   Low       512 non-null    int64  \n",
            " 4   Vol.      512 non-null    object \n",
            " 5   Change %  512 non-null    object \n",
            " 6   Pred      512 non-null    float64\n",
            " 7   new       512 non-null    float64\n",
            "dtypes: float64(2), int64(4), object(2)\n",
            "memory usage: 36.0+ KB\n"
          ],
          "name": "stdout"
        }
      ]
    },
    {
      "cell_type": "markdown",
      "metadata": {
        "id": "zOrX8qD0_4Zo",
        "colab_type": "text"
      },
      "source": [
        "Linear Regession on \"new\""
      ]
    },
    {
      "cell_type": "code",
      "metadata": {
        "id": "64e2NnIYsbjX",
        "colab_type": "code",
        "outputId": "f7f23914-6882-4257-b1c4-15a44e8a78bc",
        "colab": {
          "base_uri": "https://localhost:8080/",
          "height": 35
        }
      },
      "source": [
        "lr_new = LinearRegression()\n",
        "lr_new.fit(df_train[['Price', 'Open', 'High', 'Low']], df_train['new'])\n",
        "print(lr_new.score(df_train[['Price', 'Open', 'High', 'Low']], df_train['new']))"
      ],
      "execution_count": 24,
      "outputs": [
        {
          "output_type": "stream",
          "text": [
            "0.9999941203360704\n"
          ],
          "name": "stdout"
        }
      ]
    },
    {
      "cell_type": "markdown",
      "metadata": {
        "id": "kFpVvUZvYwYq",
        "colab_type": "text"
      },
      "source": [
        "Polynomial Regession on \"new\""
      ]
    },
    {
      "cell_type": "code",
      "metadata": {
        "id": "337I9YXzhdDE",
        "colab_type": "code",
        "colab": {}
      },
      "source": [
        "from sklearn.preprocessing import PolynomialFeatures "
      ],
      "execution_count": 0,
      "outputs": []
    },
    {
      "cell_type": "code",
      "metadata": {
        "id": "GCAZOnThjzOe",
        "colab_type": "code",
        "outputId": "62edf766-1ae1-427a-b998-cd4e8ef349c7",
        "colab": {
          "base_uri": "https://localhost:8080/",
          "height": 35
        }
      },
      "source": [
        "features = {\n",
        "    \"train\": PolynomialFeatures(2).fit_transform( df_train[ X_fields ] ),\n",
        "    \"test\":  PolynomialFeatures(2).fit_transform( df_test[ X_fields ] ),    \n",
        "}\n",
        "model_new_poly = LinearRegression().fit( features['train'], df_train['new'] )\n",
        "model_new_poly.score( features['test'], df_test['new'] )"
      ],
      "execution_count": 26,
      "outputs": [
        {
          "output_type": "execute_result",
          "data": {
            "text/plain": [
              "0.9999998563364357"
            ]
          },
          "metadata": {
            "tags": []
          },
          "execution_count": 26
        }
      ]
    },
    {
      "cell_type": "code",
      "metadata": {
        "id": "fUQB2oesYW38",
        "colab_type": "code",
        "outputId": "2f4272ca-d32e-45fd-d906-6b80b406ae34",
        "colab": {
          "base_uri": "https://localhost:8080/",
          "height": 35
        }
      },
      "source": [
        "lr.coef_"
      ],
      "execution_count": 27,
      "outputs": [
        {
          "output_type": "execute_result",
          "data": {
            "text/plain": [
              "array([ 2.,  3., -1., -4.])"
            ]
          },
          "metadata": {
            "tags": []
          },
          "execution_count": 27
        }
      ]
    },
    {
      "cell_type": "code",
      "metadata": {
        "id": "k9WSFdQpYbs4",
        "colab_type": "code",
        "outputId": "06aaec6b-7b8b-42ea-8339-69bf92602252",
        "colab": {
          "base_uri": "https://localhost:8080/",
          "height": 35
        }
      },
      "source": [
        "lr.intercept_"
      ],
      "execution_count": 28,
      "outputs": [
        {
          "output_type": "execute_result",
          "data": {
            "text/plain": [
              "-2.6716406864579767e-12"
            ]
          },
          "metadata": {
            "tags": []
          },
          "execution_count": 28
        }
      ]
    },
    {
      "cell_type": "code",
      "metadata": {
        "id": "8-7GXbyJVw_5",
        "colab_type": "code",
        "outputId": "bf3b41d3-75e5-4e67-c8ee-ee37337b7a28",
        "colab": {
          "base_uri": "https://localhost:8080/",
          "height": 124
        }
      },
      "source": [
        "df_test['new'] = model_new_poly.predict(features['test'])"
      ],
      "execution_count": 29,
      "outputs": [
        {
          "output_type": "stream",
          "text": [
            "/usr/local/lib/python3.6/dist-packages/ipykernel_launcher.py:1: SettingWithCopyWarning: \n",
            "A value is trying to be set on a copy of a slice from a DataFrame.\n",
            "Try using .loc[row_indexer,col_indexer] = value instead\n",
            "\n",
            "See the caveats in the documentation: https://pandas.pydata.org/pandas-docs/stable/user_guide/indexing.html#returning-a-view-versus-a-copy\n",
            "  \"\"\"Entry point for launching an IPython kernel.\n"
          ],
          "name": "stderr"
        }
      ]
    },
    {
      "cell_type": "code",
      "metadata": {
        "id": "Sya1A2j9lOCv",
        "colab_type": "code",
        "outputId": "21c6b87f-0946-421d-f475-dd20f8ca2b80",
        "colab": {
          "base_uri": "https://localhost:8080/",
          "height": 223
        }
      },
      "source": [
        "df_test.head()"
      ],
      "execution_count": 30,
      "outputs": [
        {
          "output_type": "execute_result",
          "data": {
            "text/html": [
              "<div>\n",
              "<style scoped>\n",
              "    .dataframe tbody tr th:only-of-type {\n",
              "        vertical-align: middle;\n",
              "    }\n",
              "\n",
              "    .dataframe tbody tr th {\n",
              "        vertical-align: top;\n",
              "    }\n",
              "\n",
              "    .dataframe thead th {\n",
              "        text-align: right;\n",
              "    }\n",
              "</style>\n",
              "<table border=\"1\" class=\"dataframe\">\n",
              "  <thead>\n",
              "    <tr style=\"text-align: right;\">\n",
              "      <th></th>\n",
              "      <th>Price</th>\n",
              "      <th>Open</th>\n",
              "      <th>High</th>\n",
              "      <th>Low</th>\n",
              "      <th>Vol.</th>\n",
              "      <th>Change %</th>\n",
              "      <th>Pred</th>\n",
              "      <th>new</th>\n",
              "    </tr>\n",
              "    <tr>\n",
              "      <th>Date</th>\n",
              "      <th></th>\n",
              "      <th></th>\n",
              "      <th></th>\n",
              "      <th></th>\n",
              "      <th></th>\n",
              "      <th></th>\n",
              "      <th></th>\n",
              "      <th></th>\n",
              "    </tr>\n",
              "  </thead>\n",
              "  <tbody>\n",
              "    <tr>\n",
              "      <th>Dec 11, 2018</th>\n",
              "      <td>31812</td>\n",
              "      <td>31850</td>\n",
              "      <td>31850</td>\n",
              "      <td>31618</td>\n",
              "      <td>10.53K</td>\n",
              "      <td>-0.26%</td>\n",
              "      <td>852.0</td>\n",
              "      <td>195.404770</td>\n",
              "    </tr>\n",
              "    <tr>\n",
              "      <th>Dec 12, 2018</th>\n",
              "      <td>31626</td>\n",
              "      <td>31749</td>\n",
              "      <td>31749</td>\n",
              "      <td>31582</td>\n",
              "      <td>7.57K</td>\n",
              "      <td>-0.58%</td>\n",
              "      <td>422.0</td>\n",
              "      <td>44.253544</td>\n",
              "    </tr>\n",
              "    <tr>\n",
              "      <th>Dec 13, 2018</th>\n",
              "      <td>31414</td>\n",
              "      <td>31550</td>\n",
              "      <td>31600</td>\n",
              "      <td>31337</td>\n",
              "      <td>8.43K</td>\n",
              "      <td>-0.67%</td>\n",
              "      <td>530.0</td>\n",
              "      <td>127.645823</td>\n",
              "    </tr>\n",
              "    <tr>\n",
              "      <th>Dec 14, 2018</th>\n",
              "      <td>31437</td>\n",
              "      <td>31440</td>\n",
              "      <td>31514</td>\n",
              "      <td>31384</td>\n",
              "      <td>6.75K</td>\n",
              "      <td>0.07%</td>\n",
              "      <td>144.0</td>\n",
              "      <td>127.237121</td>\n",
              "    </tr>\n",
              "    <tr>\n",
              "      <th>Dec 17, 2018</th>\n",
              "      <td>31501</td>\n",
              "      <td>31369</td>\n",
              "      <td>31530</td>\n",
              "      <td>31291</td>\n",
              "      <td>5.97K</td>\n",
              "      <td>0.20%</td>\n",
              "      <td>415.0</td>\n",
              "      <td>372.578260</td>\n",
              "    </tr>\n",
              "  </tbody>\n",
              "</table>\n",
              "</div>"
            ],
            "text/plain": [
              "              Price   Open   High    Low    Vol. Change %   Pred         new\n",
              "Date                                                                        \n",
              "Dec 11, 2018  31812  31850  31850  31618  10.53K   -0.26%  852.0  195.404770\n",
              "Dec 12, 2018  31626  31749  31749  31582   7.57K   -0.58%  422.0   44.253544\n",
              "Dec 13, 2018  31414  31550  31600  31337   8.43K   -0.67%  530.0  127.645823\n",
              "Dec 14, 2018  31437  31440  31514  31384   6.75K    0.07%  144.0  127.237121\n",
              "Dec 17, 2018  31501  31369  31530  31291   5.97K    0.20%  415.0  372.578260"
            ]
          },
          "metadata": {
            "tags": []
          },
          "execution_count": 30
        }
      ]
    },
    {
      "cell_type": "code",
      "metadata": {
        "id": "WI1ahmCAA_s6",
        "colab_type": "code",
        "outputId": "50beff04-096d-4699-ee9e-0c4b2c28fe35",
        "colab": {
          "base_uri": "https://localhost:8080/",
          "height": 411
        }
      },
      "source": [
        "fig = plt.figure(figsize=[15, 6])\n",
        "ax1 = fig.add_subplot(1, 1, 1)\n",
        "ax2 = ax1.twinx()\n",
        "\n",
        "ax2.plot( df_test.Price, label='Price' ); \n",
        "ax2.plot( df_test.Open,  label='Open' );  \n",
        "ax2.plot( df_test.High,  label='High' );  \n",
        "ax2.plot( df_test.Low,   label='Low' );   \n",
        "ax1.plot( df_test.new,  label='new', linestyle=':', );  \n",
        "\n",
        "plt.title('Gold')\n",
        "plt.ylabel('Price')\n",
        "ax1.legend(loc='upper left')\n",
        "ax2.legend(loc='upper right')"
      ],
      "execution_count": 31,
      "outputs": [
        {
          "output_type": "execute_result",
          "data": {
            "text/plain": [
              "<matplotlib.legend.Legend at 0x7f039bb9d668>"
            ]
          },
          "metadata": {
            "tags": []
          },
          "execution_count": 31
        },
        {
          "output_type": "display_data",
          "data": {
            "image/png": "[encoded data removed]",
            "text/plain": [
              "<Figure size 1080x432 with 2 Axes>"
            ]
          },
          "metadata": {
            "tags": []
          }
        }
      ]
    },
    {
      "cell_type": "code",
      "metadata": {
        "id": "4PxsKlpmEwQt",
        "colab_type": "code",
        "outputId": "46702e70-f2a3-45e6-e02e-bf72240b8af7",
        "colab": {
          "base_uri": "https://localhost:8080/",
          "height": 466
        }
      },
      "source": [
        "fig = plt.figure(figsize=[15, 6])\n",
        "ax1 = fig.add_subplot(1, 1, 1)\n",
        "ax2 = fig.add_subplot(1, 2, 1)\n",
        "\n",
        "ax1.hist( df_test.Price, alpha=0.5 )\n",
        "ax1.hist( df_test.Open, alpha=0.5 )\n",
        "ax1.hist( df_test.High, alpha=0.5 )\n",
        "ax1.hist( df_test.Low, alpha=0.5 )\n",
        "ax2.hist( df_test.new )"
      ],
      "execution_count": 32,
      "outputs": [
        {
          "output_type": "execute_result",
          "data": {
            "text/plain": [
              "(array([35., 30., 19.,  7.,  5.,  4.,  0.,  0.,  0.,  1.]),\n",
              " array([  18.18054691,  157.11873586,  296.05692481,  434.99511377,\n",
              "         573.93330272,  712.87149168,  851.80968063,  990.74786958,\n",
              "        1129.68605854, 1268.62424749, 1407.56243644]),\n",
              " <a list of 10 Patch objects>)"
            ]
          },
          "metadata": {
            "tags": []
          },
          "execution_count": 32
        },
        {
          "output_type": "display_data",
          "data": {
            "image/png": "[encoded data removed]",
            "text/plain": [
              "<Figure size 1080x432 with 2 Axes>"
            ]
          },
          "metadata": {
            "tags": []
          }
        }
      ]
    },
    {
      "cell_type": "code",
      "metadata": {
        "id": "qPen70p35WjT",
        "colab_type": "code",
        "outputId": "4620d0c8-c5b1-4cea-9263-ebf80bc0ac2b",
        "colab": {
          "base_uri": "https://localhost:8080/",
          "height": 285
        }
      },
      "source": [
        "\n",
        "sns.set()\n",
        "ax = sns.distplot(df_test.new)\n",
        "plt.show()"
      ],
      "execution_count": 33,
      "outputs": [
        {
          "output_type": "display_data",
          "data": {
            "image/png": "[encoded data removed]",
            "text/plain": [
              "<Figure size 432x288 with 1 Axes>"
            ]
          },
          "metadata": {
            "tags": []
          }
        }
      ]
    },
    {
      "cell_type": "markdown",
      "metadata": {
        "id": "AlfT_qPHpuwE",
        "colab_type": "text"
      },
      "source": [
        "**Description :**\n",
        "\n",
        "\n",
        "*   \"Pred\" columns is a linear combination of the OHLC prices with varying coefficients\n",
        "*   \"new\" column is a polynomial function of the same inputs.\n",
        "\n"
      ]
    },
    {
      "cell_type": "markdown",
      "metadata": {
        "id": "fVwdfSk8a1cS",
        "colab_type": "text"
      },
      "source": [
        "## 3.2"
      ]
    },
    {
      "cell_type": "code",
      "metadata": {
        "id": "YWKzks9Va4Le",
        "colab_type": "code",
        "colab": {}
      },
      "source": [
        "import statsmodels.api as sm\n",
        "from statsmodels.regression.linear_model import OLS\n",
        "from sklearn.model_selection import train_test_split"
      ],
      "execution_count": 0,
      "outputs": []
    },
    {
      "cell_type": "code",
      "metadata": {
        "id": "KBWM5cvueUcN",
        "colab_type": "code",
        "colab": {}
      },
      "source": [
        "infosys_df = pd.read_csv( '/content/drive/My Drive/DataScience/Aspiration Internship/week2.csv',  parse_dates=['Date'], index_col='Date' )\n",
        "infosys_df = infosys_df[ infosys_df.Series == 'EQ' ]"
      ],
      "execution_count": 0,
      "outputs": []
    },
    {
      "cell_type": "code",
      "metadata": {
        "id": "wdstSMZcfawt",
        "colab_type": "code",
        "outputId": "2c9600c7-d0f0-4428-a44e-5fd630d4547a",
        "colab": {
          "base_uri": "https://localhost:8080/",
          "height": 446
        }
      },
      "source": [
        "infosys_df.head()"
      ],
      "execution_count": 36,
      "outputs": [
        {
          "output_type": "execute_result",
          "data": {
            "text/html": [
              "<div>\n",
              "<style scoped>\n",
              "    .dataframe tbody tr th:only-of-type {\n",
              "        vertical-align: middle;\n",
              "    }\n",
              "\n",
              "    .dataframe tbody tr th {\n",
              "        vertical-align: top;\n",
              "    }\n",
              "\n",
              "    .dataframe thead th {\n",
              "        text-align: right;\n",
              "    }\n",
              "</style>\n",
              "<table border=\"1\" class=\"dataframe\">\n",
              "  <thead>\n",
              "    <tr style=\"text-align: right;\">\n",
              "      <th></th>\n",
              "      <th>Symbol</th>\n",
              "      <th>Series</th>\n",
              "      <th>Prev Close</th>\n",
              "      <th>Open Price</th>\n",
              "      <th>High Price</th>\n",
              "      <th>Low Price</th>\n",
              "      <th>Last Price</th>\n",
              "      <th>Close Price</th>\n",
              "      <th>Average Price</th>\n",
              "      <th>Total Traded Quantity</th>\n",
              "      <th>Turnover</th>\n",
              "      <th>No. of Trades</th>\n",
              "      <th>Deliverable Qty</th>\n",
              "      <th>% Dly Qt to Traded Qty</th>\n",
              "      <th>year</th>\n",
              "      <th>month</th>\n",
              "      <th>vwap</th>\n",
              "      <th>PCT_change</th>\n",
              "      <th>Trend</th>\n",
              "    </tr>\n",
              "    <tr>\n",
              "      <th>Date</th>\n",
              "      <th></th>\n",
              "      <th></th>\n",
              "      <th></th>\n",
              "      <th></th>\n",
              "      <th></th>\n",
              "      <th></th>\n",
              "      <th></th>\n",
              "      <th></th>\n",
              "      <th></th>\n",
              "      <th></th>\n",
              "      <th></th>\n",
              "      <th></th>\n",
              "      <th></th>\n",
              "      <th></th>\n",
              "      <th></th>\n",
              "      <th></th>\n",
              "      <th></th>\n",
              "      <th></th>\n",
              "      <th></th>\n",
              "    </tr>\n",
              "  </thead>\n",
              "  <tbody>\n",
              "    <tr>\n",
              "      <th>2017-05-15</th>\n",
              "      <td>INFY</td>\n",
              "      <td>EQ</td>\n",
              "      <td>964.25</td>\n",
              "      <td>963.5</td>\n",
              "      <td>963.50</td>\n",
              "      <td>949.10</td>\n",
              "      <td>953.25</td>\n",
              "      <td>951.55</td>\n",
              "      <td>951.49</td>\n",
              "      <td>3648582</td>\n",
              "      <td>3.471580e+09</td>\n",
              "      <td>75335</td>\n",
              "      <td>3052819</td>\n",
              "      <td>83.67</td>\n",
              "      <td>2017</td>\n",
              "      <td>5</td>\n",
              "      <td>951.550000</td>\n",
              "      <td>0.000000</td>\n",
              "      <td>Slight or No change</td>\n",
              "    </tr>\n",
              "    <tr>\n",
              "      <th>2017-05-16</th>\n",
              "      <td>INFY</td>\n",
              "      <td>EQ</td>\n",
              "      <td>951.55</td>\n",
              "      <td>953.1</td>\n",
              "      <td>960.15</td>\n",
              "      <td>946.95</td>\n",
              "      <td>956.00</td>\n",
              "      <td>955.00</td>\n",
              "      <td>952.92</td>\n",
              "      <td>3065084</td>\n",
              "      <td>2.920775e+09</td>\n",
              "      <td>71808</td>\n",
              "      <td>1858063</td>\n",
              "      <td>60.62</td>\n",
              "      <td>2017</td>\n",
              "      <td>5</td>\n",
              "      <td>953.125077</td>\n",
              "      <td>0.003626</td>\n",
              "      <td>Slight or No change</td>\n",
              "    </tr>\n",
              "    <tr>\n",
              "      <th>2017-05-17</th>\n",
              "      <td>INFY</td>\n",
              "      <td>EQ</td>\n",
              "      <td>955.00</td>\n",
              "      <td>951.6</td>\n",
              "      <td>958.45</td>\n",
              "      <td>943.85</td>\n",
              "      <td>952.90</td>\n",
              "      <td>952.80</td>\n",
              "      <td>949.48</td>\n",
              "      <td>1457754</td>\n",
              "      <td>1.384110e+09</td>\n",
              "      <td>75429</td>\n",
              "      <td>792251</td>\n",
              "      <td>54.35</td>\n",
              "      <td>2017</td>\n",
              "      <td>5</td>\n",
              "      <td>953.067084</td>\n",
              "      <td>-0.002304</td>\n",
              "      <td>Slight or No change</td>\n",
              "    </tr>\n",
              "    <tr>\n",
              "      <th>2017-05-18</th>\n",
              "      <td>INFY</td>\n",
              "      <td>EQ</td>\n",
              "      <td>952.80</td>\n",
              "      <td>943.0</td>\n",
              "      <td>973.90</td>\n",
              "      <td>942.85</td>\n",
              "      <td>960.25</td>\n",
              "      <td>961.75</td>\n",
              "      <td>962.61</td>\n",
              "      <td>4028924</td>\n",
              "      <td>3.878282e+09</td>\n",
              "      <td>120990</td>\n",
              "      <td>2309450</td>\n",
              "      <td>57.32</td>\n",
              "      <td>2017</td>\n",
              "      <td>5</td>\n",
              "      <td>955.934447</td>\n",
              "      <td>0.009393</td>\n",
              "      <td>Slight positive</td>\n",
              "    </tr>\n",
              "    <tr>\n",
              "      <th>2017-05-19</th>\n",
              "      <td>INFY</td>\n",
              "      <td>EQ</td>\n",
              "      <td>961.75</td>\n",
              "      <td>961.5</td>\n",
              "      <td>962.70</td>\n",
              "      <td>947.85</td>\n",
              "      <td>957.40</td>\n",
              "      <td>957.95</td>\n",
              "      <td>954.18</td>\n",
              "      <td>2128698</td>\n",
              "      <td>2.031155e+09</td>\n",
              "      <td>88897</td>\n",
              "      <td>1457747</td>\n",
              "      <td>68.48</td>\n",
              "      <td>2017</td>\n",
              "      <td>5</td>\n",
              "      <td>956.233874</td>\n",
              "      <td>-0.003951</td>\n",
              "      <td>Slight or No change</td>\n",
              "    </tr>\n",
              "  </tbody>\n",
              "</table>\n",
              "</div>"
            ],
            "text/plain": [
              "           Symbol Series  ...  PCT_change                Trend\n",
              "Date                      ...                                 \n",
              "2017-05-15   INFY     EQ  ...    0.000000  Slight or No change\n",
              "2017-05-16   INFY     EQ  ...    0.003626  Slight or No change\n",
              "2017-05-17   INFY     EQ  ...   -0.002304  Slight or No change\n",
              "2017-05-18   INFY     EQ  ...    0.009393      Slight positive\n",
              "2017-05-19   INFY     EQ  ...   -0.003951  Slight or No change\n",
              "\n",
              "[5 rows x 19 columns]"
            ]
          },
          "metadata": {
            "tags": []
          },
          "execution_count": 36
        }
      ]
    },
    {
      "cell_type": "code",
      "metadata": {
        "id": "ARv0qK1FfmhF",
        "colab_type": "code",
        "colab": {}
      },
      "source": [
        "nifty50 = pd.read_csv( '/content/drive/My Drive/DataScience/Aspiration Internship/Nifty50.csv',  parse_dates=['Date'], index_col='Date')"
      ],
      "execution_count": 0,
      "outputs": []
    },
    {
      "cell_type": "code",
      "metadata": {
        "id": "6tzoxmdMgrDT",
        "colab_type": "code",
        "outputId": "b0cefca1-3f67-4db0-bbc1-538924d5101b",
        "colab": {
          "base_uri": "https://localhost:8080/",
          "height": 223
        }
      },
      "source": [
        "nifty50.head()"
      ],
      "execution_count": 38,
      "outputs": [
        {
          "output_type": "execute_result",
          "data": {
            "text/html": [
              "<div>\n",
              "<style scoped>\n",
              "    .dataframe tbody tr th:only-of-type {\n",
              "        vertical-align: middle;\n",
              "    }\n",
              "\n",
              "    .dataframe tbody tr th {\n",
              "        vertical-align: top;\n",
              "    }\n",
              "\n",
              "    .dataframe thead th {\n",
              "        text-align: right;\n",
              "    }\n",
              "</style>\n",
              "<table border=\"1\" class=\"dataframe\">\n",
              "  <thead>\n",
              "    <tr style=\"text-align: right;\">\n",
              "      <th></th>\n",
              "      <th>Open</th>\n",
              "      <th>High</th>\n",
              "      <th>Low</th>\n",
              "      <th>Close</th>\n",
              "      <th>Shares Traded</th>\n",
              "      <th>Turnover (Rs. Cr)</th>\n",
              "    </tr>\n",
              "    <tr>\n",
              "      <th>Date</th>\n",
              "      <th></th>\n",
              "      <th></th>\n",
              "      <th></th>\n",
              "      <th></th>\n",
              "      <th></th>\n",
              "      <th></th>\n",
              "    </tr>\n",
              "  </thead>\n",
              "  <tbody>\n",
              "    <tr>\n",
              "      <th>2017-05-15</th>\n",
              "      <td>9433.55</td>\n",
              "      <td>9449.25</td>\n",
              "      <td>9423.10</td>\n",
              "      <td>9445.40</td>\n",
              "      <td>145163953</td>\n",
              "      <td>7790.97</td>\n",
              "    </tr>\n",
              "    <tr>\n",
              "      <th>2017-05-16</th>\n",
              "      <td>9461.00</td>\n",
              "      <td>9517.20</td>\n",
              "      <td>9456.35</td>\n",
              "      <td>9512.25</td>\n",
              "      <td>171709433</td>\n",
              "      <td>9209.89</td>\n",
              "    </tr>\n",
              "    <tr>\n",
              "      <th>2017-05-17</th>\n",
              "      <td>9517.60</td>\n",
              "      <td>9532.60</td>\n",
              "      <td>9486.10</td>\n",
              "      <td>9525.75</td>\n",
              "      <td>211856040</td>\n",
              "      <td>10726.23</td>\n",
              "    </tr>\n",
              "    <tr>\n",
              "      <th>2017-05-18</th>\n",
              "      <td>9453.20</td>\n",
              "      <td>9489.10</td>\n",
              "      <td>9418.10</td>\n",
              "      <td>9429.45</td>\n",
              "      <td>199340647</td>\n",
              "      <td>10782.46</td>\n",
              "    </tr>\n",
              "    <tr>\n",
              "      <th>2017-05-19</th>\n",
              "      <td>9469.90</td>\n",
              "      <td>9505.75</td>\n",
              "      <td>9390.75</td>\n",
              "      <td>9427.90</td>\n",
              "      <td>259861396</td>\n",
              "      <td>11544.77</td>\n",
              "    </tr>\n",
              "  </tbody>\n",
              "</table>\n",
              "</div>"
            ],
            "text/plain": [
              "               Open     High  ...  Shares Traded  Turnover (Rs. Cr)\n",
              "Date                          ...                                  \n",
              "2017-05-15  9433.55  9449.25  ...      145163953            7790.97\n",
              "2017-05-16  9461.00  9517.20  ...      171709433            9209.89\n",
              "2017-05-17  9517.60  9532.60  ...      211856040           10726.23\n",
              "2017-05-18  9453.20  9489.10  ...      199340647           10782.46\n",
              "2017-05-19  9469.90  9505.75  ...      259861396           11544.77\n",
              "\n",
              "[5 rows x 6 columns]"
            ]
          },
          "metadata": {
            "tags": []
          },
          "execution_count": 38
        }
      ]
    },
    {
      "cell_type": "code",
      "metadata": {
        "id": "zVEfTQW9guZ7",
        "colab_type": "code",
        "colab": {}
      },
      "source": [
        ""
      ],
      "execution_count": 0,
      "outputs": []
    },
    {
      "cell_type": "markdown",
      "metadata": {
        "id": "WLiuktFJiWLE",
        "colab_type": "text"
      },
      "source": [
        "**Import the stock of your choosing AND the Nifty index.Using linear regression (OLS), calculate -**"
      ]
    },
    {
      "cell_type": "markdown",
      "metadata": {
        "id": "HF67geiCin-_",
        "colab_type": "text"
      },
      "source": [
        "**3.2.1 : The daily Beta value for the past 3 months. (Daily= Daily returns)**"
      ]
    },
    {
      "cell_type": "code",
      "metadata": {
        "id": "kRuQ64Lhip8Z",
        "colab_type": "code",
        "outputId": "78ed87ec-eeb4-4efd-d5b7-e4705858ac23",
        "colab": {
          "base_uri": "https://localhost:8080/",
          "height": 223
        }
      },
      "source": [
        "prices_df = pd.concat([ infosys_df['Close Price'], nifty50['Close'] ], axis=1)\n",
        "prices_df.columns = ['infosys', 'nifty50']\n",
        "prices_df.head()"
      ],
      "execution_count": 39,
      "outputs": [
        {
          "output_type": "execute_result",
          "data": {
            "text/html": [
              "<div>\n",
              "<style scoped>\n",
              "    .dataframe tbody tr th:only-of-type {\n",
              "        vertical-align: middle;\n",
              "    }\n",
              "\n",
              "    .dataframe tbody tr th {\n",
              "        vertical-align: top;\n",
              "    }\n",
              "\n",
              "    .dataframe thead th {\n",
              "        text-align: right;\n",
              "    }\n",
              "</style>\n",
              "<table border=\"1\" class=\"dataframe\">\n",
              "  <thead>\n",
              "    <tr style=\"text-align: right;\">\n",
              "      <th></th>\n",
              "      <th>infosys</th>\n",
              "      <th>nifty50</th>\n",
              "    </tr>\n",
              "    <tr>\n",
              "      <th>Date</th>\n",
              "      <th></th>\n",
              "      <th></th>\n",
              "    </tr>\n",
              "  </thead>\n",
              "  <tbody>\n",
              "    <tr>\n",
              "      <th>2017-05-15</th>\n",
              "      <td>951.55</td>\n",
              "      <td>9445.40</td>\n",
              "    </tr>\n",
              "    <tr>\n",
              "      <th>2017-05-16</th>\n",
              "      <td>955.00</td>\n",
              "      <td>9512.25</td>\n",
              "    </tr>\n",
              "    <tr>\n",
              "      <th>2017-05-17</th>\n",
              "      <td>952.80</td>\n",
              "      <td>9525.75</td>\n",
              "    </tr>\n",
              "    <tr>\n",
              "      <th>2017-05-18</th>\n",
              "      <td>961.75</td>\n",
              "      <td>9429.45</td>\n",
              "    </tr>\n",
              "    <tr>\n",
              "      <th>2017-05-19</th>\n",
              "      <td>957.95</td>\n",
              "      <td>9427.90</td>\n",
              "    </tr>\n",
              "  </tbody>\n",
              "</table>\n",
              "</div>"
            ],
            "text/plain": [
              "            infosys  nifty50\n",
              "Date                        \n",
              "2017-05-15   951.55  9445.40\n",
              "2017-05-16   955.00  9512.25\n",
              "2017-05-17   952.80  9525.75\n",
              "2017-05-18   961.75  9429.45\n",
              "2017-05-19   957.95  9427.90"
            ]
          },
          "metadata": {
            "tags": []
          },
          "execution_count": 39
        }
      ]
    },
    {
      "cell_type": "code",
      "metadata": {
        "id": "a8ZyNMJEj8w7",
        "colab_type": "code",
        "outputId": "3d5ccfa6-089e-4b72-f668-3064a118ee27",
        "colab": {
          "base_uri": "https://localhost:8080/",
          "height": 223
        }
      },
      "source": [
        "returns_df = prices_df.pct_change().dropna(axis=0)\n",
        "returns_df.head()"
      ],
      "execution_count": 40,
      "outputs": [
        {
          "output_type": "execute_result",
          "data": {
            "text/html": [
              "<div>\n",
              "<style scoped>\n",
              "    .dataframe tbody tr th:only-of-type {\n",
              "        vertical-align: middle;\n",
              "    }\n",
              "\n",
              "    .dataframe tbody tr th {\n",
              "        vertical-align: top;\n",
              "    }\n",
              "\n",
              "    .dataframe thead th {\n",
              "        text-align: right;\n",
              "    }\n",
              "</style>\n",
              "<table border=\"1\" class=\"dataframe\">\n",
              "  <thead>\n",
              "    <tr style=\"text-align: right;\">\n",
              "      <th></th>\n",
              "      <th>infosys</th>\n",
              "      <th>nifty50</th>\n",
              "    </tr>\n",
              "    <tr>\n",
              "      <th>Date</th>\n",
              "      <th></th>\n",
              "      <th></th>\n",
              "    </tr>\n",
              "  </thead>\n",
              "  <tbody>\n",
              "    <tr>\n",
              "      <th>2017-05-16</th>\n",
              "      <td>0.003626</td>\n",
              "      <td>0.007078</td>\n",
              "    </tr>\n",
              "    <tr>\n",
              "      <th>2017-05-17</th>\n",
              "      <td>-0.002304</td>\n",
              "      <td>0.001419</td>\n",
              "    </tr>\n",
              "    <tr>\n",
              "      <th>2017-05-18</th>\n",
              "      <td>0.009393</td>\n",
              "      <td>-0.010109</td>\n",
              "    </tr>\n",
              "    <tr>\n",
              "      <th>2017-05-19</th>\n",
              "      <td>-0.003951</td>\n",
              "      <td>-0.000164</td>\n",
              "    </tr>\n",
              "    <tr>\n",
              "      <th>2017-05-22</th>\n",
              "      <td>0.003654</td>\n",
              "      <td>0.001098</td>\n",
              "    </tr>\n",
              "  </tbody>\n",
              "</table>\n",
              "</div>"
            ],
            "text/plain": [
              "             infosys   nifty50\n",
              "Date                          \n",
              "2017-05-16  0.003626  0.007078\n",
              "2017-05-17 -0.002304  0.001419\n",
              "2017-05-18  0.009393 -0.010109\n",
              "2017-05-19 -0.003951 -0.000164\n",
              "2017-05-22  0.003654  0.001098"
            ]
          },
          "metadata": {
            "tags": []
          },
          "execution_count": 40
        }
      ]
    },
    {
      "cell_type": "code",
      "metadata": {
        "id": "x42e_xb2kmGb",
        "colab_type": "code",
        "outputId": "a6cab226-6ebf-4c52-a676-50cd26d68242",
        "colab": {
          "base_uri": "https://localhost:8080/",
          "height": 434
        }
      },
      "source": [
        "X  = returns_df['nifty50']\n",
        "Y  = returns_df['infosys']\n",
        "X1 = sm.add_constant(X)\n",
        "\n",
        "model = OLS( Y, X1 )\n",
        "model.fit().summary()"
      ],
      "execution_count": 41,
      "outputs": [
        {
          "output_type": "execute_result",
          "data": {
            "text/html": [
              "<table class=\"simpletable\">\n",
              "<caption>OLS Regression Results</caption>\n",
              "<tr>\n",
              "  <th>Dep. Variable:</th>         <td>infosys</td>     <th>  R-squared:         </th> <td>   0.041</td>\n",
              "</tr>\n",
              "<tr>\n",
              "  <th>Model:</th>                   <td>OLS</td>       <th>  Adj. R-squared:    </th> <td>   0.039</td>\n",
              "</tr>\n",
              "<tr>\n",
              "  <th>Method:</th>             <td>Least Squares</td>  <th>  F-statistic:       </th> <td>   21.20</td>\n",
              "</tr>\n",
              "<tr>\n",
              "  <th>Date:</th>             <td>Fri, 15 May 2020</td> <th>  Prob (F-statistic):</th> <td>5.28e-06</td>\n",
              "</tr>\n",
              "<tr>\n",
              "  <th>Time:</th>                 <td>04:39:37</td>     <th>  Log-Likelihood:    </th> <td>  1103.2</td>\n",
              "</tr>\n",
              "<tr>\n",
              "  <th>No. Observations:</th>      <td>   493</td>      <th>  AIC:               </th> <td>  -2202.</td>\n",
              "</tr>\n",
              "<tr>\n",
              "  <th>Df Residuals:</th>          <td>   491</td>      <th>  BIC:               </th> <td>  -2194.</td>\n",
              "</tr>\n",
              "<tr>\n",
              "  <th>Df Model:</th>              <td>     1</td>      <th>                     </th>     <td> </td>   \n",
              "</tr>\n",
              "<tr>\n",
              "  <th>Covariance Type:</th>      <td>nonrobust</td>    <th>                     </th>     <td> </td>   \n",
              "</tr>\n",
              "</table>\n",
              "<table class=\"simpletable\">\n",
              "<tr>\n",
              "     <td></td>        <th>coef</th>     <th>std err</th>      <th>t</th>      <th>P>|t|</th>  <th>[0.025</th>    <th>0.975]</th>  \n",
              "</tr>\n",
              "<tr>\n",
              "  <th>const</th>   <td>   -0.0004</td> <td>    0.001</td> <td>   -0.312</td> <td> 0.755</td> <td>   -0.003</td> <td>    0.002</td>\n",
              "</tr>\n",
              "<tr>\n",
              "  <th>nifty50</th> <td>    0.7451</td> <td>    0.162</td> <td>    4.604</td> <td> 0.000</td> <td>    0.427</td> <td>    1.063</td>\n",
              "</tr>\n",
              "</table>\n",
              "<table class=\"simpletable\">\n",
              "<tr>\n",
              "  <th>Omnibus:</th>       <td>963.212</td> <th>  Durbin-Watson:     </th>  <td>   1.987</td>  \n",
              "</tr>\n",
              "<tr>\n",
              "  <th>Prob(Omnibus):</th> <td> 0.000</td>  <th>  Jarque-Bera (JB):  </th> <td>1231550.455</td>\n",
              "</tr>\n",
              "<tr>\n",
              "  <th>Skew:</th>          <td>-13.216</td> <th>  Prob(JB):          </th>  <td>    0.00</td>  \n",
              "</tr>\n",
              "<tr>\n",
              "  <th>Kurtosis:</th>      <td>246.424</td> <th>  Cond. No.          </th>  <td>    139.</td>  \n",
              "</tr>\n",
              "</table><br/><br/>Warnings:<br/>[1] Standard Errors assume that the covariance matrix of the errors is correctly specified."
            ],
            "text/plain": [
              "<class 'statsmodels.iolib.summary.Summary'>\n",
              "\"\"\"\n",
              "                            OLS Regression Results                            \n",
              "==============================================================================\n",
              "Dep. Variable:                infosys   R-squared:                       0.041\n",
              "Model:                            OLS   Adj. R-squared:                  0.039\n",
              "Method:                 Least Squares   F-statistic:                     21.20\n",
              "Date:                Fri, 15 May 2020   Prob (F-statistic):           5.28e-06\n",
              "Time:                        04:39:37   Log-Likelihood:                 1103.2\n",
              "No. Observations:                 493   AIC:                            -2202.\n",
              "Df Residuals:                     491   BIC:                            -2194.\n",
              "Df Model:                           1                                         \n",
              "Covariance Type:            nonrobust                                         \n",
              "==============================================================================\n",
              "                 coef    std err          t      P>|t|      [0.025      0.975]\n",
              "------------------------------------------------------------------------------\n",
              "const         -0.0004      0.001     -0.312      0.755      -0.003       0.002\n",
              "nifty50        0.7451      0.162      4.604      0.000       0.427       1.063\n",
              "==============================================================================\n",
              "Omnibus:                      963.212   Durbin-Watson:                   1.987\n",
              "Prob(Omnibus):                  0.000   Jarque-Bera (JB):          1231550.455\n",
              "Skew:                         -13.216   Prob(JB):                         0.00\n",
              "Kurtosis:                     246.424   Cond. No.                         139.\n",
              "==============================================================================\n",
              "\n",
              "Warnings:\n",
              "[1] Standard Errors assume that the covariance matrix of the errors is correctly specified.\n",
              "\"\"\""
            ]
          },
          "metadata": {
            "tags": []
          },
          "execution_count": 41
        }
      ]
    },
    {
      "cell_type": "markdown",
      "metadata": {
        "id": "vcSiFKsNmcSg",
        "colab_type": "text"
      },
      "source": [
        "Beta can also be calculated using the linear regression covarience coefficent.\n",
        "\n",
        "Beta of INFOSYS vs NIFTY50 is **0.7451**"
      ]
    },
    {
      "cell_type": "markdown",
      "metadata": {
        "id": "V2gUhb0Qm6Vp",
        "colab_type": "text"
      },
      "source": [
        "**3.2.2 : The monthly Beta value. (Monthly= Monthly returns)**"
      ]
    },
    {
      "cell_type": "code",
      "metadata": {
        "id": "UpTtjLG3lttm",
        "colab_type": "code",
        "colab": {}
      },
      "source": [
        "nifty50['month'] = nifty50.index.map(lambda date: f\"{date.year}-{date.month}\")\n",
        "infosys_df['month'] = infosys_df.index.map(lambda date: f\"{date.year}-{date.month}\")"
      ],
      "execution_count": 0,
      "outputs": []
    },
    {
      "cell_type": "code",
      "metadata": {
        "id": "yKD6pvxLndyK",
        "colab_type": "code",
        "colab": {}
      },
      "source": [
        "nifty50_monthly = nifty50.groupby('month').last()\n",
        "infosys_df_monthly = infosys_df.groupby('month').last()\n"
      ],
      "execution_count": 0,
      "outputs": []
    },
    {
      "cell_type": "code",
      "metadata": {
        "id": "KJEv-1zSnful",
        "colab_type": "code",
        "outputId": "ada8f261-9c33-4b3b-97af-5d461d03f240",
        "colab": {
          "base_uri": "https://localhost:8080/",
          "height": 378
        }
      },
      "source": [
        "infosys_df_monthly.head()"
      ],
      "execution_count": 44,
      "outputs": [
        {
          "output_type": "execute_result",
          "data": {
            "text/html": [
              "<div>\n",
              "<style scoped>\n",
              "    .dataframe tbody tr th:only-of-type {\n",
              "        vertical-align: middle;\n",
              "    }\n",
              "\n",
              "    .dataframe tbody tr th {\n",
              "        vertical-align: top;\n",
              "    }\n",
              "\n",
              "    .dataframe thead th {\n",
              "        text-align: right;\n",
              "    }\n",
              "</style>\n",
              "<table border=\"1\" class=\"dataframe\">\n",
              "  <thead>\n",
              "    <tr style=\"text-align: right;\">\n",
              "      <th></th>\n",
              "      <th>Symbol</th>\n",
              "      <th>Series</th>\n",
              "      <th>Prev Close</th>\n",
              "      <th>Open Price</th>\n",
              "      <th>High Price</th>\n",
              "      <th>Low Price</th>\n",
              "      <th>Last Price</th>\n",
              "      <th>Close Price</th>\n",
              "      <th>Average Price</th>\n",
              "      <th>Total Traded Quantity</th>\n",
              "      <th>Turnover</th>\n",
              "      <th>No. of Trades</th>\n",
              "      <th>Deliverable Qty</th>\n",
              "      <th>% Dly Qt to Traded Qty</th>\n",
              "      <th>year</th>\n",
              "      <th>vwap</th>\n",
              "      <th>PCT_change</th>\n",
              "      <th>Trend</th>\n",
              "    </tr>\n",
              "    <tr>\n",
              "      <th>month</th>\n",
              "      <th></th>\n",
              "      <th></th>\n",
              "      <th></th>\n",
              "      <th></th>\n",
              "      <th></th>\n",
              "      <th></th>\n",
              "      <th></th>\n",
              "      <th></th>\n",
              "      <th></th>\n",
              "      <th></th>\n",
              "      <th></th>\n",
              "      <th></th>\n",
              "      <th></th>\n",
              "      <th></th>\n",
              "      <th></th>\n",
              "      <th></th>\n",
              "      <th></th>\n",
              "      <th></th>\n",
              "    </tr>\n",
              "  </thead>\n",
              "  <tbody>\n",
              "    <tr>\n",
              "      <th>2017-10</th>\n",
              "      <td>INFY</td>\n",
              "      <td>EQ</td>\n",
              "      <td>944.10</td>\n",
              "      <td>925.00</td>\n",
              "      <td>930.00</td>\n",
              "      <td>920.00</td>\n",
              "      <td>922.00</td>\n",
              "      <td>921.85</td>\n",
              "      <td>924.74</td>\n",
              "      <td>4977494</td>\n",
              "      <td>4.602897e+09</td>\n",
              "      <td>68301</td>\n",
              "      <td>3547519</td>\n",
              "      <td>71.27</td>\n",
              "      <td>2017</td>\n",
              "      <td>931.858118</td>\n",
              "      <td>-0.023567</td>\n",
              "      <td>Negative</td>\n",
              "    </tr>\n",
              "    <tr>\n",
              "      <th>2017-11</th>\n",
              "      <td>INFY</td>\n",
              "      <td>EQ</td>\n",
              "      <td>982.70</td>\n",
              "      <td>989.45</td>\n",
              "      <td>989.45</td>\n",
              "      <td>968.35</td>\n",
              "      <td>972.50</td>\n",
              "      <td>976.10</td>\n",
              "      <td>978.17</td>\n",
              "      <td>8633472</td>\n",
              "      <td>8.445011e+09</td>\n",
              "      <td>126288</td>\n",
              "      <td>5893906</td>\n",
              "      <td>68.27</td>\n",
              "      <td>2017</td>\n",
              "      <td>969.989288</td>\n",
              "      <td>-0.006716</td>\n",
              "      <td>Slight negative</td>\n",
              "    </tr>\n",
              "    <tr>\n",
              "      <th>2017-12</th>\n",
              "      <td>INFY</td>\n",
              "      <td>EQ</td>\n",
              "      <td>1033.25</td>\n",
              "      <td>1030.10</td>\n",
              "      <td>1048.80</td>\n",
              "      <td>1030.00</td>\n",
              "      <td>1041.25</td>\n",
              "      <td>1042.05</td>\n",
              "      <td>1041.38</td>\n",
              "      <td>3300884</td>\n",
              "      <td>3.437462e+09</td>\n",
              "      <td>83693</td>\n",
              "      <td>2238793</td>\n",
              "      <td>67.82</td>\n",
              "      <td>2017</td>\n",
              "      <td>1011.833961</td>\n",
              "      <td>0.008517</td>\n",
              "      <td>Slight positive</td>\n",
              "    </tr>\n",
              "    <tr>\n",
              "      <th>2017-5</th>\n",
              "      <td>INFY</td>\n",
              "      <td>EQ</td>\n",
              "      <td>996.20</td>\n",
              "      <td>993.55</td>\n",
              "      <td>993.55</td>\n",
              "      <td>974.85</td>\n",
              "      <td>976.05</td>\n",
              "      <td>977.05</td>\n",
              "      <td>980.19</td>\n",
              "      <td>3881950</td>\n",
              "      <td>3.805051e+09</td>\n",
              "      <td>121323</td>\n",
              "      <td>3086038</td>\n",
              "      <td>79.50</td>\n",
              "      <td>2017</td>\n",
              "      <td>969.171663</td>\n",
              "      <td>-0.019223</td>\n",
              "      <td>Negative</td>\n",
              "    </tr>\n",
              "    <tr>\n",
              "      <th>2017-6</th>\n",
              "      <td>INFY</td>\n",
              "      <td>EQ</td>\n",
              "      <td>930.20</td>\n",
              "      <td>930.80</td>\n",
              "      <td>938.00</td>\n",
              "      <td>929.00</td>\n",
              "      <td>934.40</td>\n",
              "      <td>935.55</td>\n",
              "      <td>934.42</td>\n",
              "      <td>2108350</td>\n",
              "      <td>1.970090e+09</td>\n",
              "      <td>64325</td>\n",
              "      <td>1526984</td>\n",
              "      <td>72.43</td>\n",
              "      <td>2017</td>\n",
              "      <td>948.202546</td>\n",
              "      <td>0.005751</td>\n",
              "      <td>Slight positive</td>\n",
              "    </tr>\n",
              "  </tbody>\n",
              "</table>\n",
              "</div>"
            ],
            "text/plain": [
              "        Symbol Series  Prev Close  ...         vwap  PCT_change            Trend\n",
              "month                              ...                                          \n",
              "2017-10   INFY     EQ      944.10  ...   931.858118   -0.023567         Negative\n",
              "2017-11   INFY     EQ      982.70  ...   969.989288   -0.006716  Slight negative\n",
              "2017-12   INFY     EQ     1033.25  ...  1011.833961    0.008517  Slight positive\n",
              "2017-5    INFY     EQ      996.20  ...   969.171663   -0.019223         Negative\n",
              "2017-6    INFY     EQ      930.20  ...   948.202546    0.005751  Slight positive\n",
              "\n",
              "[5 rows x 18 columns]"
            ]
          },
          "metadata": {
            "tags": []
          },
          "execution_count": 44
        }
      ]
    },
    {
      "cell_type": "code",
      "metadata": {
        "id": "q_e3d-q9n15O",
        "colab_type": "code",
        "outputId": "20127b4c-d67e-40b5-c495-1b8387585b1c",
        "colab": {
          "base_uri": "https://localhost:8080/",
          "height": 223
        }
      },
      "source": [
        "nifty50_monthly.head()"
      ],
      "execution_count": 45,
      "outputs": [
        {
          "output_type": "execute_result",
          "data": {
            "text/html": [
              "<div>\n",
              "<style scoped>\n",
              "    .dataframe tbody tr th:only-of-type {\n",
              "        vertical-align: middle;\n",
              "    }\n",
              "\n",
              "    .dataframe tbody tr th {\n",
              "        vertical-align: top;\n",
              "    }\n",
              "\n",
              "    .dataframe thead th {\n",
              "        text-align: right;\n",
              "    }\n",
              "</style>\n",
              "<table border=\"1\" class=\"dataframe\">\n",
              "  <thead>\n",
              "    <tr style=\"text-align: right;\">\n",
              "      <th></th>\n",
              "      <th>Open</th>\n",
              "      <th>High</th>\n",
              "      <th>Low</th>\n",
              "      <th>Close</th>\n",
              "      <th>Shares Traded</th>\n",
              "      <th>Turnover (Rs. Cr)</th>\n",
              "    </tr>\n",
              "    <tr>\n",
              "      <th>month</th>\n",
              "      <th></th>\n",
              "      <th></th>\n",
              "      <th></th>\n",
              "      <th></th>\n",
              "      <th></th>\n",
              "      <th></th>\n",
              "    </tr>\n",
              "  </thead>\n",
              "  <tbody>\n",
              "    <tr>\n",
              "      <th>2017-10</th>\n",
              "      <td>10364.90</td>\n",
              "      <td>10367.7</td>\n",
              "      <td>10323.95</td>\n",
              "      <td>10335.30</td>\n",
              "      <td>239809700</td>\n",
              "      <td>12830.06</td>\n",
              "    </tr>\n",
              "    <tr>\n",
              "      <th>2017-11</th>\n",
              "      <td>10332.70</td>\n",
              "      <td>10332.7</td>\n",
              "      <td>10211.25</td>\n",
              "      <td>10226.55</td>\n",
              "      <td>353105240</td>\n",
              "      <td>19005.56</td>\n",
              "    </tr>\n",
              "    <tr>\n",
              "      <th>2017-12</th>\n",
              "      <td>10492.35</td>\n",
              "      <td>10538.7</td>\n",
              "      <td>10488.65</td>\n",
              "      <td>10530.70</td>\n",
              "      <td>156736221</td>\n",
              "      <td>8943.10</td>\n",
              "    </tr>\n",
              "    <tr>\n",
              "      <th>2017-5</th>\n",
              "      <td>9636.55</td>\n",
              "      <td>9649.6</td>\n",
              "      <td>9609.25</td>\n",
              "      <td>9621.25</td>\n",
              "      <td>427053433</td>\n",
              "      <td>19605.94</td>\n",
              "    </tr>\n",
              "    <tr>\n",
              "      <th>2017-6</th>\n",
              "      <td>9478.50</td>\n",
              "      <td>9535.8</td>\n",
              "      <td>9448.75</td>\n",
              "      <td>9520.90</td>\n",
              "      <td>185202600</td>\n",
              "      <td>8783.59</td>\n",
              "    </tr>\n",
              "  </tbody>\n",
              "</table>\n",
              "</div>"
            ],
            "text/plain": [
              "             Open     High  ...  Shares Traded  Turnover (Rs. Cr)\n",
              "month                       ...                                  \n",
              "2017-10  10364.90  10367.7  ...      239809700           12830.06\n",
              "2017-11  10332.70  10332.7  ...      353105240           19005.56\n",
              "2017-12  10492.35  10538.7  ...      156736221            8943.10\n",
              "2017-5    9636.55   9649.6  ...      427053433           19605.94\n",
              "2017-6    9478.50   9535.8  ...      185202600            8783.59\n",
              "\n",
              "[5 rows x 6 columns]"
            ]
          },
          "metadata": {
            "tags": []
          },
          "execution_count": 45
        }
      ]
    },
    {
      "cell_type": "code",
      "metadata": {
        "id": "CdhJ4WYmn4eO",
        "colab_type": "code",
        "outputId": "43c5401c-8ec8-4420-9b40-d63f4d88d54b",
        "colab": {
          "base_uri": "https://localhost:8080/",
          "height": 223
        }
      },
      "source": [
        "returns_monthly = pd.concat([ infosys_df_monthly['Close Price'], nifty50_monthly['Close'] ], axis=1).pct_change().dropna()\n",
        "returns_monthly.columns = ['infosys', 'nifty50']\n",
        "returns_monthly.head()"
      ],
      "execution_count": 46,
      "outputs": [
        {
          "output_type": "execute_result",
          "data": {
            "text/html": [
              "<div>\n",
              "<style scoped>\n",
              "    .dataframe tbody tr th:only-of-type {\n",
              "        vertical-align: middle;\n",
              "    }\n",
              "\n",
              "    .dataframe tbody tr th {\n",
              "        vertical-align: top;\n",
              "    }\n",
              "\n",
              "    .dataframe thead th {\n",
              "        text-align: right;\n",
              "    }\n",
              "</style>\n",
              "<table border=\"1\" class=\"dataframe\">\n",
              "  <thead>\n",
              "    <tr style=\"text-align: right;\">\n",
              "      <th></th>\n",
              "      <th>infosys</th>\n",
              "      <th>nifty50</th>\n",
              "    </tr>\n",
              "    <tr>\n",
              "      <th>month</th>\n",
              "      <th></th>\n",
              "      <th></th>\n",
              "    </tr>\n",
              "  </thead>\n",
              "  <tbody>\n",
              "    <tr>\n",
              "      <th>2017-11</th>\n",
              "      <td>0.058849</td>\n",
              "      <td>-0.010522</td>\n",
              "    </tr>\n",
              "    <tr>\n",
              "      <th>2017-12</th>\n",
              "      <td>0.067565</td>\n",
              "      <td>0.029741</td>\n",
              "    </tr>\n",
              "    <tr>\n",
              "      <th>2017-5</th>\n",
              "      <td>-0.062377</td>\n",
              "      <td>-0.086362</td>\n",
              "    </tr>\n",
              "    <tr>\n",
              "      <th>2017-6</th>\n",
              "      <td>-0.042475</td>\n",
              "      <td>-0.010430</td>\n",
              "    </tr>\n",
              "    <tr>\n",
              "      <th>2017-7</th>\n",
              "      <td>0.080862</td>\n",
              "      <td>0.058419</td>\n",
              "    </tr>\n",
              "  </tbody>\n",
              "</table>\n",
              "</div>"
            ],
            "text/plain": [
              "          infosys   nifty50\n",
              "month                      \n",
              "2017-11  0.058849 -0.010522\n",
              "2017-12  0.067565  0.029741\n",
              "2017-5  -0.062377 -0.086362\n",
              "2017-6  -0.042475 -0.010430\n",
              "2017-7   0.080862  0.058419"
            ]
          },
          "metadata": {
            "tags": []
          },
          "execution_count": 46
        }
      ]
    },
    {
      "cell_type": "code",
      "metadata": {
        "id": "nfpR0wDFoNR_",
        "colab_type": "code",
        "outputId": "8b54b60d-3b7e-41ab-fc2f-e0ebd0d7bd00",
        "colab": {
          "base_uri": "https://localhost:8080/",
          "height": 434
        }
      },
      "source": [
        "X  = returns_monthly['nifty50']\n",
        "Y  = returns_monthly['infosys']\n",
        "X1 = sm.add_constant(X)\n",
        "\n",
        "model = OLS( Y, X1 )\n",
        "model.fit().summary()"
      ],
      "execution_count": 47,
      "outputs": [
        {
          "output_type": "execute_result",
          "data": {
            "text/html": [
              "<table class=\"simpletable\">\n",
              "<caption>OLS Regression Results</caption>\n",
              "<tr>\n",
              "  <th>Dep. Variable:</th>         <td>infosys</td>     <th>  R-squared:         </th> <td>   0.117</td>\n",
              "</tr>\n",
              "<tr>\n",
              "  <th>Model:</th>                   <td>OLS</td>       <th>  Adj. R-squared:    </th> <td>   0.077</td>\n",
              "</tr>\n",
              "<tr>\n",
              "  <th>Method:</th>             <td>Least Squares</td>  <th>  F-statistic:       </th> <td>   2.906</td>\n",
              "</tr>\n",
              "<tr>\n",
              "  <th>Date:</th>             <td>Fri, 15 May 2020</td> <th>  Prob (F-statistic):</th>  <td> 0.102</td> \n",
              "</tr>\n",
              "<tr>\n",
              "  <th>Time:</th>                 <td>04:39:37</td>     <th>  Log-Likelihood:    </th> <td>  4.0508</td>\n",
              "</tr>\n",
              "<tr>\n",
              "  <th>No. Observations:</th>      <td>    24</td>      <th>  AIC:               </th> <td>  -4.102</td>\n",
              "</tr>\n",
              "<tr>\n",
              "  <th>Df Residuals:</th>          <td>    22</td>      <th>  BIC:               </th> <td>  -1.745</td>\n",
              "</tr>\n",
              "<tr>\n",
              "  <th>Df Model:</th>              <td>     1</td>      <th>                     </th>     <td> </td>   \n",
              "</tr>\n",
              "<tr>\n",
              "  <th>Covariance Type:</th>      <td>nonrobust</td>    <th>                     </th>     <td> </td>   \n",
              "</tr>\n",
              "</table>\n",
              "<table class=\"simpletable\">\n",
              "<tr>\n",
              "     <td></td>        <th>coef</th>     <th>std err</th>      <th>t</th>      <th>P>|t|</th>  <th>[0.025</th>    <th>0.975]</th>  \n",
              "</tr>\n",
              "<tr>\n",
              "  <th>const</th>   <td>    0.0064</td> <td>    0.044</td> <td>    0.146</td> <td> 0.885</td> <td>   -0.084</td> <td>    0.097</td>\n",
              "</tr>\n",
              "<tr>\n",
              "  <th>nifty50</th> <td>    1.5221</td> <td>    0.893</td> <td>    1.705</td> <td> 0.102</td> <td>   -0.330</td> <td>    3.374</td>\n",
              "</tr>\n",
              "</table>\n",
              "<table class=\"simpletable\">\n",
              "<tr>\n",
              "  <th>Omnibus:</th>       <td>32.464</td> <th>  Durbin-Watson:     </th> <td>   2.010</td>\n",
              "</tr>\n",
              "<tr>\n",
              "  <th>Prob(Omnibus):</th> <td> 0.000</td> <th>  Jarque-Bera (JB):  </th> <td> 100.233</td>\n",
              "</tr>\n",
              "<tr>\n",
              "  <th>Skew:</th>          <td> 2.251</td> <th>  Prob(JB):          </th> <td>1.72e-22</td>\n",
              "</tr>\n",
              "<tr>\n",
              "  <th>Kurtosis:</th>      <td>11.943</td> <th>  Cond. No.          </th> <td>    20.5</td>\n",
              "</tr>\n",
              "</table><br/><br/>Warnings:<br/>[1] Standard Errors assume that the covariance matrix of the errors is correctly specified."
            ],
            "text/plain": [
              "<class 'statsmodels.iolib.summary.Summary'>\n",
              "\"\"\"\n",
              "                            OLS Regression Results                            \n",
              "==============================================================================\n",
              "Dep. Variable:                infosys   R-squared:                       0.117\n",
              "Model:                            OLS   Adj. R-squared:                  0.077\n",
              "Method:                 Least Squares   F-statistic:                     2.906\n",
              "Date:                Fri, 15 May 2020   Prob (F-statistic):              0.102\n",
              "Time:                        04:39:37   Log-Likelihood:                 4.0508\n",
              "No. Observations:                  24   AIC:                            -4.102\n",
              "Df Residuals:                      22   BIC:                            -1.745\n",
              "Df Model:                           1                                         \n",
              "Covariance Type:            nonrobust                                         \n",
              "==============================================================================\n",
              "                 coef    std err          t      P>|t|      [0.025      0.975]\n",
              "------------------------------------------------------------------------------\n",
              "const          0.0064      0.044      0.146      0.885      -0.084       0.097\n",
              "nifty50        1.5221      0.893      1.705      0.102      -0.330       3.374\n",
              "==============================================================================\n",
              "Omnibus:                       32.464   Durbin-Watson:                   2.010\n",
              "Prob(Omnibus):                  0.000   Jarque-Bera (JB):              100.233\n",
              "Skew:                           2.251   Prob(JB):                     1.72e-22\n",
              "Kurtosis:                      11.943   Cond. No.                         20.5\n",
              "==============================================================================\n",
              "\n",
              "Warnings:\n",
              "[1] Standard Errors assume that the covariance matrix of the errors is correctly specified.\n",
              "\"\"\""
            ]
          },
          "metadata": {
            "tags": []
          },
          "execution_count": 47
        }
      ]
    },
    {
      "cell_type": "markdown",
      "metadata": {
        "id": "GWWrsfo3ovPJ",
        "colab_type": "text"
      },
      "source": [
        "Monthly Beta value : **1.5221**"
      ]
    },
    {
      "cell_type": "markdown",
      "metadata": {
        "id": "wMXmxMD9m655",
        "colab_type": "text"
      },
      "source": [
        "**DESCRIPTION :**\n",
        "\n",
        "\n",
        "*   Daily β value of last 3 month is  0.7451, so it is less volatile than the market.\n",
        "\n",
        "*   Monthly β value is 1.5221, so it is more volatile than the market\n"
      ]
    },
    {
      "cell_type": "code",
      "metadata": {
        "id": "3O0Lkc-Gn7U7",
        "colab_type": "code",
        "colab": {}
      },
      "source": [
        ""
      ],
      "execution_count": 0,
      "outputs": []
    }
  ]
}